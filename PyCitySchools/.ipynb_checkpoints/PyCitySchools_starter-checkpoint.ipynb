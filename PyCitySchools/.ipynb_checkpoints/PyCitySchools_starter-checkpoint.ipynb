{
 "cells": [
  {
   "cell_type": "markdown",
   "metadata": {},
   "source": [
    "### Note\n",
    "* Instructions have been included for each segment. You do not have to follow them exactly, but they are included to help you think through the steps."
   ]
  },
  {
   "cell_type": "code",
   "execution_count": 1064,
   "metadata": {},
   "outputs": [],
   "source": [
    "# Dependencies and Setup\n",
    "import pandas as pd\n",
    "\n",
    "# To use the mean function\n",
    "import statistics\n",
    "\n",
    "# To the currency conversion function\n",
    "import locale"
   ]
  },
  {
   "cell_type": "code",
   "execution_count": 1065,
   "metadata": {},
   "outputs": [],
   "source": [
    "pd.options.display.precision = 6"
   ]
  },
  {
   "cell_type": "code",
   "execution_count": 1066,
   "metadata": {},
   "outputs": [],
   "source": [
    "# Files to Load\n",
    "school_data_to_load = \"./Resources/schools_complete.csv\"\n",
    "student_data_to_load = \"./Resources/students_complete.csv\""
   ]
  },
  {
   "cell_type": "code",
   "execution_count": 1067,
   "metadata": {},
   "outputs": [],
   "source": [
    "# Read School and Student Data File and store into Pandas Data Frames\n",
    "school_data = pd.read_csv(school_data_to_load)\n",
    "student_data = pd.read_csv(student_data_to_load)"
   ]
  },
  {
   "cell_type": "code",
   "execution_count": 1068,
   "metadata": {},
   "outputs": [],
   "source": [
    "# Combine the data into a single dataset\n",
    "school_data_complete = pd.merge(student_data, school_data, how=\"left\", on=[\"school_name\", \"school_name\"])"
   ]
  },
  {
   "cell_type": "markdown",
   "metadata": {},
   "source": [
    "## District Summary\n",
    "\n",
    "* Calculate the total number of schools\n",
    "\n",
    "* Calculate the total number of students\n",
    "\n",
    "* Calculate the total budget\n",
    "\n",
    "* Calculate the average math score \n",
    "\n",
    "* Calculate the average reading score\n",
    "\n",
    "* Calculate the overall passing rate (overall average score), i.e. (avg. math score + avg. reading score)/2\n",
    "\n",
    "* Calculate the percentage of students with a passing math score (70 or greater)\n",
    "\n",
    "* Calculate the percentage of students with a passing reading score (70 or greater)\n",
    "\n",
    "* Create a dataframe to hold the above results\n",
    "\n",
    "* Optional: give the displayed data cleaner formatting"
   ]
  },
  {
   "cell_type": "code",
   "execution_count": 1069,
   "metadata": {},
   "outputs": [],
   "source": [
    "# Calculate the total number of schools\n",
    "total_schools = len(school_data_complete[\"school_name\"].unique())\n",
    "#####################################################################################\n",
    "# validate calc\n",
    "#total_schools"
   ]
  },
  {
   "cell_type": "code",
   "execution_count": 1070,
   "metadata": {},
   "outputs": [],
   "source": [
    "# Calculate the total number of students\n",
    "total_students = len(school_data_complete[\"Student ID\"].unique())\n",
    "#####################################################################################\n",
    "# validate calc\n",
    "#total_students"
   ]
  },
  {
   "cell_type": "code",
   "execution_count": 1071,
   "metadata": {},
   "outputs": [],
   "source": [
    "# Calculate the total budget\n",
    "total_budget = sum(school_data_complete[\"budget\"].unique())\n",
    "#####################################################################################\n",
    "# validate calc\n",
    "#total_budget"
   ]
  },
  {
   "cell_type": "code",
   "execution_count": 1072,
   "metadata": {},
   "outputs": [],
   "source": [
    "# Calculate the average math score\n",
    "avg_math_score = statistics.mean(school_data_complete[\"math_score\"])\n",
    "#####################################################################################\n",
    "# validate calc\n",
    "#avg_math_score"
   ]
  },
  {
   "cell_type": "code",
   "execution_count": 1073,
   "metadata": {},
   "outputs": [],
   "source": [
    "# Calculate the average reading score\n",
    "avg_reading_score = statistics.mean(school_data_complete[\"reading_score\"])\n",
    "#####################################################################################\n",
    "# validate calc\n",
    "#avg_reading_score"
   ]
  },
  {
   "cell_type": "code",
   "execution_count": 1074,
   "metadata": {},
   "outputs": [],
   "source": [
    "# Calculate the overall passing rate (overall average score), i.e. (avg. math score + avg. reading score)/2\n",
    "percent_overall_avg = (avg_math_score + avg_reading_score) / 2\n",
    "#####################################################################################\n",
    "# validate calc\n",
    "#percent_overall_avg"
   ]
  },
  {
   "cell_type": "code",
   "execution_count": 1075,
   "metadata": {},
   "outputs": [],
   "source": [
    "# Calculate the percentage of students with a passing math score (70 or greater)\n",
    "\n",
    "# Calculate the total with a math score 70 or greater\n",
    "total_passing_math = len(school_data_complete[\"Student ID\"].unique()[school_data_complete[\"math_score\"] >= 70])\n",
    "\n",
    "# Divide the total passing by the total number of students.  Multiply total by 100 to format per column header\n",
    "percent_passing_math = (total_passing_math/total_students) * 100\n",
    "#####################################################################################\n",
    "# validate calc\n",
    "#percent_passing_math"
   ]
  },
  {
   "cell_type": "code",
   "execution_count": 1076,
   "metadata": {},
   "outputs": [],
   "source": [
    "# Calculate the percentage of students with a passing reading score (70 or greater)\n",
    "\n",
    "# Calculate the total with a reading score 70 or greater\n",
    "total_passing_reading = len(school_data_complete[\"Student ID\"].unique()[school_data_complete[\"reading_score\"] >= 70])\n",
    "\n",
    "# Divide the total passing by the total number of students.  Multiply total by 100 to format per column header\n",
    "percent_passing_reading = (total_passing_reading/total_students) * 100\n",
    "#####################################################################################\n",
    "# validate calc\n",
    "#percent_passing_reading"
   ]
  },
  {
   "cell_type": "code",
   "execution_count": 1091,
   "metadata": {
    "scrolled": true
   },
   "outputs": [],
   "source": [
    "# Create a dataframe to hold the above results\n",
    "district_summary_data = pd.DataFrame({\n",
    "    \"Total Schools\":[total_schools],\n",
    "    \n",
    "    # Format total_students; include commas\n",
    "    \"Total Students\":[f\"{total_students:,}\"],\n",
    "    \n",
    "    # Format total_budget; print US dollar format with commas\n",
    "    \"Total Budget\":[locale.currency(total_budget, grouping=True)],\n",
    "    \n",
    "    \"Average Math Score\":[avg_math_score],\n",
    "    \"Average Reading Score\":[avg_reading_score],\n",
    "    \"% Passing Math\":[percent_passing_math],\n",
    "    \"% Passing Reading\":[percent_passing_reading],\n",
    "    \"% Overall Passing Rate\":[percent_overall_avg]\n",
    "})"
   ]
  },
  {
   "cell_type": "code",
   "execution_count": 1078,
   "metadata": {
    "scrolled": true
   },
   "outputs": [
    {
     "data": {
      "text/html": [
       "<div>\n",
       "<style scoped>\n",
       "    .dataframe tbody tr th:only-of-type {\n",
       "        vertical-align: middle;\n",
       "    }\n",
       "\n",
       "    .dataframe tbody tr th {\n",
       "        vertical-align: top;\n",
       "    }\n",
       "\n",
       "    .dataframe thead th {\n",
       "        text-align: right;\n",
       "    }\n",
       "</style>\n",
       "<table border=\"1\" class=\"dataframe\">\n",
       "  <thead>\n",
       "    <tr style=\"text-align: right;\">\n",
       "      <th></th>\n",
       "      <th>Total Schools</th>\n",
       "      <th>Total Students</th>\n",
       "      <th>Total Budget</th>\n",
       "      <th>Average Math Score</th>\n",
       "      <th>Average Reading Score</th>\n",
       "      <th>% Passing Math</th>\n",
       "      <th>% Passing Reading</th>\n",
       "      <th>% Overall Passing Rate</th>\n",
       "    </tr>\n",
       "  </thead>\n",
       "  <tbody>\n",
       "    <tr>\n",
       "      <td>0</td>\n",
       "      <td>15</td>\n",
       "      <td>39,170</td>\n",
       "      <td>$24,649,428.00</td>\n",
       "      <td>78.99</td>\n",
       "      <td>81.88</td>\n",
       "      <td>74.98</td>\n",
       "      <td>85.81</td>\n",
       "      <td>80.43</td>\n",
       "    </tr>\n",
       "  </tbody>\n",
       "</table>\n",
       "</div>"
      ],
      "text/plain": [
       "   Total Schools Total Students    Total Budget  Average Math Score  \\\n",
       "0             15         39,170  $24,649,428.00               78.99   \n",
       "\n",
       "   Average Reading Score  % Passing Math  % Passing Reading  \\\n",
       "0                  81.88           74.98              85.81   \n",
       "\n",
       "   % Overall Passing Rate  \n",
       "0                   80.43  "
      ]
     },
     "execution_count": 1078,
     "metadata": {},
     "output_type": "execute_result"
    }
   ],
   "source": [
    "# Display District Summary\n",
    "district_summary_data"
   ]
  },
  {
   "cell_type": "markdown",
   "metadata": {},
   "source": [
    "## School Summary"
   ]
  },
  {
   "cell_type": "markdown",
   "metadata": {},
   "source": [
    "* Create an overview table that summarizes key metrics about each school, including:\n",
    "  * School Name\n",
    "  * School Type\n",
    "  * Total Students\n",
    "  * Total School Budget\n",
    "  * Per Student Budget\n",
    "  * Average Math Score\n",
    "  * Average Reading Score\n",
    "  * % Passing Math\n",
    "  * % Passing Reading\n",
    "  * Overall Passing Rate (Average of the above two)\n",
    "  \n",
    "* Create a dataframe to hold the above results"
   ]
  },
  {
   "cell_type": "code",
   "execution_count": 1079,
   "metadata": {},
   "outputs": [],
   "source": [
    "# Using GroupBy in order to separate the data into fields according to \"school_name\" values\n",
    "# Also grouping by school \"type\" to capture this value in given solution\n",
    "school_performance_data = school_data_complete.groupby([\"school_name\",\"type\"])\n",
    "#####################################################################################\n",
    "# validate calc\n",
    "#school_performance_data.head()"
   ]
  },
  {
   "cell_type": "code",
   "execution_count": 1080,
   "metadata": {},
   "outputs": [],
   "source": [
    "# Calculate the total number of students\n",
    "total_students_by_school = school_performance_data[\"Student ID\"].count()\n",
    "#####################################################################################\n",
    "# validate calc\n",
    "#total_students_by_school.head()"
   ]
  },
  {
   "cell_type": "code",
   "execution_count": 1081,
   "metadata": {},
   "outputs": [],
   "source": [
    "# Calculate the total budget\n",
    "total_budget_by_school = school_performance_data[\"budget\"].mean()\n",
    "#####################################################################################\n",
    "# validate calc\n",
    "#total_budget_by_school.head()"
   ]
  },
  {
   "cell_type": "code",
   "execution_count": 1082,
   "metadata": {},
   "outputs": [],
   "source": [
    "# Per Student Budget\n",
    "total_budget_by_student = (total_budget_by_school / total_students_by_school)\n",
    "#####################################################################################\n",
    "# validate calc\n",
    "#total_budget_by_student.head()"
   ]
  },
  {
   "cell_type": "code",
   "execution_count": 1083,
   "metadata": {},
   "outputs": [],
   "source": [
    "# Average Math Score\n",
    "avg_math_score_by_school = school_performance_data[\"math_score\"].mean()\n",
    "#####################################################################################\n",
    "# validate calc\n",
    "#avg_math_score_by_school.head()"
   ]
  },
  {
   "cell_type": "code",
   "execution_count": 1084,
   "metadata": {},
   "outputs": [],
   "source": [
    "# Average Reading Score\n",
    "avg_reading_score_by_school = school_performance_data[\"reading_score\"].mean()\n",
    "#####################################################################################\n",
    "# validate calc\n",
    "#avg_reading_score_by_school.head()"
   ]
  },
  {
   "cell_type": "code",
   "execution_count": 1085,
   "metadata": {},
   "outputs": [],
   "source": [
    "# Caculate total passing math by school\n",
    "total_passing_math_by_school = school_data_complete[school_data_complete[\"math_score\"] >= 70].groupby(\"school_name\")[\"math_score\"].count()\n",
    "\n",
    "# % Passing Math - students passing / total students\n",
    "percent_math_score_by_school = (total_passing_math_by_school / total_students_by_school)\n",
    "#####################################################################################\n",
    "# validate calc\n",
    "#percent_math_score_by_school.head()"
   ]
  },
  {
   "cell_type": "code",
   "execution_count": 1086,
   "metadata": {},
   "outputs": [],
   "source": [
    "# Caculate total passing reading by school\n",
    "total_passing_reading_by_school = school_data_complete[school_data_complete[\"reading_score\"] >= 70].groupby(\"school_name\")[\"reading_score\"].count()\n",
    "\n",
    "# % Passing Reading - students passing / total students\n",
    "percent_reading_score_by_school = (total_passing_reading_by_school / total_students_by_school)\n",
    "#####################################################################################\n",
    "# validate calc\n",
    "#percent_reading_score_by_school.head()"
   ]
  },
  {
   "cell_type": "code",
   "execution_count": 1087,
   "metadata": {},
   "outputs": [],
   "source": [
    "# Overall Passing Rate (Average of the above two)\n",
    "percent_overall_avg_by_school = (percent_math_score_by_school + percent_reading_score_by_school) / 2\n",
    "#####################################################################################\n",
    "# validate calc\n",
    "#percent_overall_avg_by_school.head()"
   ]
  },
  {
   "cell_type": "code",
   "execution_count": 1088,
   "metadata": {
    "scrolled": false
   },
   "outputs": [],
   "source": [
    "# Save school performance data to DataFrame\n",
    "\n",
    "performance_data_summary = pd.DataFrame({\n",
    "    'Total Students':total_students_by_school,\n",
    "    \n",
    "    # Format monetary values to USD using\n",
    "    'Total School Budget':total_budget_by_school.map('${:,.2f}'.format),\n",
    "    'Per Student Budget':total_budget_by_student.map('${:,.2f}'.format),\n",
    "    \n",
    "    # Format non-monetary values to 6 decimal places\n",
    "    'Average Math Score':avg_math_score_by_school.map('{:,.6f}'.format),\n",
    "    'Average Reading Score':avg_reading_score_by_school.map('{:,.6f}'.format),\n",
    "    '% Passing Math':(percent_math_score_by_school*100).map('{:,.6f}'.format),\n",
    "    '% Passing Reading':(percent_reading_score_by_school*100).map('{:,.6f}'.format),\n",
    "    '% Overall Passing Rate':(percent_overall_avg_by_school*100).map('{:,.6f}'.format)\n",
    "}).reset_index()"
   ]
  },
  {
   "cell_type": "code",
   "execution_count": 1089,
   "metadata": {},
   "outputs": [],
   "source": [
    "# Rename Index columns for display\n",
    "clean_school_perf_summary = performance_data_summary.rename(columns={'school_name':'School Name','type':'School Type'})"
   ]
  },
  {
   "cell_type": "markdown",
   "metadata": {},
   "source": [
    "## Top Performing Schools (By Passing Rate)"
   ]
  },
  {
   "cell_type": "markdown",
   "metadata": {},
   "source": [
    "* Sort and display the top five schools in overall passing rate"
   ]
  },
  {
   "cell_type": "code",
   "execution_count": 1033,
   "metadata": {
    "scrolled": true
   },
   "outputs": [
    {
     "data": {
      "text/html": [
       "<style  type=\"text/css\" >\n",
       "</style><table id=\"T_c311c27a_3445_11ea_a17d_f894c285f73b\" ><thead>    <tr>        <th class=\"col_heading level0 col0\" >School Name</th>        <th class=\"col_heading level0 col1\" >School Type</th>        <th class=\"col_heading level0 col2\" >Total Students</th>        <th class=\"col_heading level0 col3\" >Total School Budget</th>        <th class=\"col_heading level0 col4\" >Per Student Budget</th>        <th class=\"col_heading level0 col5\" >Average Math Score</th>        <th class=\"col_heading level0 col6\" >Average Reading Score</th>        <th class=\"col_heading level0 col7\" >% Passing Math</th>        <th class=\"col_heading level0 col8\" >% Passing Reading</th>        <th class=\"col_heading level0 col9\" >% Overall Passing Rate</th>    </tr></thead><tbody>\n",
       "                <tr>\n",
       "                                <td id=\"T_c311c27a_3445_11ea_a17d_f894c285f73brow0_col0\" class=\"data row0 col0\" >Cabrera High School</td>\n",
       "                        <td id=\"T_c311c27a_3445_11ea_a17d_f894c285f73brow0_col1\" class=\"data row0 col1\" >Charter</td>\n",
       "                        <td id=\"T_c311c27a_3445_11ea_a17d_f894c285f73brow0_col2\" class=\"data row0 col2\" >1858</td>\n",
       "                        <td id=\"T_c311c27a_3445_11ea_a17d_f894c285f73brow0_col3\" class=\"data row0 col3\" >$1,081,356.00</td>\n",
       "                        <td id=\"T_c311c27a_3445_11ea_a17d_f894c285f73brow0_col4\" class=\"data row0 col4\" >$582.00</td>\n",
       "                        <td id=\"T_c311c27a_3445_11ea_a17d_f894c285f73brow0_col5\" class=\"data row0 col5\" >83.061895</td>\n",
       "                        <td id=\"T_c311c27a_3445_11ea_a17d_f894c285f73brow0_col6\" class=\"data row0 col6\" >83.975780</td>\n",
       "                        <td id=\"T_c311c27a_3445_11ea_a17d_f894c285f73brow0_col7\" class=\"data row0 col7\" >94.133477</td>\n",
       "                        <td id=\"T_c311c27a_3445_11ea_a17d_f894c285f73brow0_col8\" class=\"data row0 col8\" >97.039828</td>\n",
       "                        <td id=\"T_c311c27a_3445_11ea_a17d_f894c285f73brow0_col9\" class=\"data row0 col9\" >95.586652</td>\n",
       "            </tr>\n",
       "            <tr>\n",
       "                                <td id=\"T_c311c27a_3445_11ea_a17d_f894c285f73brow1_col0\" class=\"data row1 col0\" >Thomas High School</td>\n",
       "                        <td id=\"T_c311c27a_3445_11ea_a17d_f894c285f73brow1_col1\" class=\"data row1 col1\" >Charter</td>\n",
       "                        <td id=\"T_c311c27a_3445_11ea_a17d_f894c285f73brow1_col2\" class=\"data row1 col2\" >1635</td>\n",
       "                        <td id=\"T_c311c27a_3445_11ea_a17d_f894c285f73brow1_col3\" class=\"data row1 col3\" >$1,043,130.00</td>\n",
       "                        <td id=\"T_c311c27a_3445_11ea_a17d_f894c285f73brow1_col4\" class=\"data row1 col4\" >$638.00</td>\n",
       "                        <td id=\"T_c311c27a_3445_11ea_a17d_f894c285f73brow1_col5\" class=\"data row1 col5\" >83.418349</td>\n",
       "                        <td id=\"T_c311c27a_3445_11ea_a17d_f894c285f73brow1_col6\" class=\"data row1 col6\" >83.848930</td>\n",
       "                        <td id=\"T_c311c27a_3445_11ea_a17d_f894c285f73brow1_col7\" class=\"data row1 col7\" >93.272171</td>\n",
       "                        <td id=\"T_c311c27a_3445_11ea_a17d_f894c285f73brow1_col8\" class=\"data row1 col8\" >97.308869</td>\n",
       "                        <td id=\"T_c311c27a_3445_11ea_a17d_f894c285f73brow1_col9\" class=\"data row1 col9\" >95.290520</td>\n",
       "            </tr>\n",
       "            <tr>\n",
       "                                <td id=\"T_c311c27a_3445_11ea_a17d_f894c285f73brow2_col0\" class=\"data row2 col0\" >Pena High School</td>\n",
       "                        <td id=\"T_c311c27a_3445_11ea_a17d_f894c285f73brow2_col1\" class=\"data row2 col1\" >Charter</td>\n",
       "                        <td id=\"T_c311c27a_3445_11ea_a17d_f894c285f73brow2_col2\" class=\"data row2 col2\" >962</td>\n",
       "                        <td id=\"T_c311c27a_3445_11ea_a17d_f894c285f73brow2_col3\" class=\"data row2 col3\" >$585,858.00</td>\n",
       "                        <td id=\"T_c311c27a_3445_11ea_a17d_f894c285f73brow2_col4\" class=\"data row2 col4\" >$609.00</td>\n",
       "                        <td id=\"T_c311c27a_3445_11ea_a17d_f894c285f73brow2_col5\" class=\"data row2 col5\" >83.839917</td>\n",
       "                        <td id=\"T_c311c27a_3445_11ea_a17d_f894c285f73brow2_col6\" class=\"data row2 col6\" >84.044699</td>\n",
       "                        <td id=\"T_c311c27a_3445_11ea_a17d_f894c285f73brow2_col7\" class=\"data row2 col7\" >94.594595</td>\n",
       "                        <td id=\"T_c311c27a_3445_11ea_a17d_f894c285f73brow2_col8\" class=\"data row2 col8\" >95.945946</td>\n",
       "                        <td id=\"T_c311c27a_3445_11ea_a17d_f894c285f73brow2_col9\" class=\"data row2 col9\" >95.270270</td>\n",
       "            </tr>\n",
       "            <tr>\n",
       "                                <td id=\"T_c311c27a_3445_11ea_a17d_f894c285f73brow3_col0\" class=\"data row3 col0\" >Griffin High School</td>\n",
       "                        <td id=\"T_c311c27a_3445_11ea_a17d_f894c285f73brow3_col1\" class=\"data row3 col1\" >Charter</td>\n",
       "                        <td id=\"T_c311c27a_3445_11ea_a17d_f894c285f73brow3_col2\" class=\"data row3 col2\" >1468</td>\n",
       "                        <td id=\"T_c311c27a_3445_11ea_a17d_f894c285f73brow3_col3\" class=\"data row3 col3\" >$917,500.00</td>\n",
       "                        <td id=\"T_c311c27a_3445_11ea_a17d_f894c285f73brow3_col4\" class=\"data row3 col4\" >$625.00</td>\n",
       "                        <td id=\"T_c311c27a_3445_11ea_a17d_f894c285f73brow3_col5\" class=\"data row3 col5\" >83.351499</td>\n",
       "                        <td id=\"T_c311c27a_3445_11ea_a17d_f894c285f73brow3_col6\" class=\"data row3 col6\" >83.816757</td>\n",
       "                        <td id=\"T_c311c27a_3445_11ea_a17d_f894c285f73brow3_col7\" class=\"data row3 col7\" >93.392371</td>\n",
       "                        <td id=\"T_c311c27a_3445_11ea_a17d_f894c285f73brow3_col8\" class=\"data row3 col8\" >97.138965</td>\n",
       "                        <td id=\"T_c311c27a_3445_11ea_a17d_f894c285f73brow3_col9\" class=\"data row3 col9\" >95.265668</td>\n",
       "            </tr>\n",
       "            <tr>\n",
       "                                <td id=\"T_c311c27a_3445_11ea_a17d_f894c285f73brow4_col0\" class=\"data row4 col0\" >Wilson High School</td>\n",
       "                        <td id=\"T_c311c27a_3445_11ea_a17d_f894c285f73brow4_col1\" class=\"data row4 col1\" >Charter</td>\n",
       "                        <td id=\"T_c311c27a_3445_11ea_a17d_f894c285f73brow4_col2\" class=\"data row4 col2\" >2283</td>\n",
       "                        <td id=\"T_c311c27a_3445_11ea_a17d_f894c285f73brow4_col3\" class=\"data row4 col3\" >$1,319,574.00</td>\n",
       "                        <td id=\"T_c311c27a_3445_11ea_a17d_f894c285f73brow4_col4\" class=\"data row4 col4\" >$578.00</td>\n",
       "                        <td id=\"T_c311c27a_3445_11ea_a17d_f894c285f73brow4_col5\" class=\"data row4 col5\" >83.274201</td>\n",
       "                        <td id=\"T_c311c27a_3445_11ea_a17d_f894c285f73brow4_col6\" class=\"data row4 col6\" >83.989488</td>\n",
       "                        <td id=\"T_c311c27a_3445_11ea_a17d_f894c285f73brow4_col7\" class=\"data row4 col7\" >93.867718</td>\n",
       "                        <td id=\"T_c311c27a_3445_11ea_a17d_f894c285f73brow4_col8\" class=\"data row4 col8\" >96.539641</td>\n",
       "                        <td id=\"T_c311c27a_3445_11ea_a17d_f894c285f73brow4_col9\" class=\"data row4 col9\" >95.203679</td>\n",
       "            </tr>\n",
       "    </tbody></table>"
      ],
      "text/plain": [
       "<pandas.io.formats.style.Styler at 0x1c706df5848>"
      ]
     },
     "execution_count": 1033,
     "metadata": {},
     "output_type": "execute_result"
    }
   ],
   "source": [
    "# Display top 5 schools by overall passing rate\n",
    "clean_school_perf_summary.sort_values(by=['% Overall Passing Rate'], ascending=False).head(5).style.hide_index()"
   ]
  },
  {
   "cell_type": "markdown",
   "metadata": {},
   "source": [
    "## Bottom Performing Schools (By Passing Rate)"
   ]
  },
  {
   "cell_type": "markdown",
   "metadata": {},
   "source": [
    "* Sort and display the five worst-performing schools"
   ]
  },
  {
   "cell_type": "code",
   "execution_count": 1034,
   "metadata": {},
   "outputs": [
    {
     "data": {
      "text/html": [
       "<style  type=\"text/css\" >\n",
       "</style><table id=\"T_c3b58e8c_3445_11ea_b5a6_f894c285f73b\" ><thead>    <tr>        <th class=\"col_heading level0 col0\" >School Name</th>        <th class=\"col_heading level0 col1\" >School Type</th>        <th class=\"col_heading level0 col2\" >Total Students</th>        <th class=\"col_heading level0 col3\" >Total School Budget</th>        <th class=\"col_heading level0 col4\" >Per Student Budget</th>        <th class=\"col_heading level0 col5\" >Average Math Score</th>        <th class=\"col_heading level0 col6\" >Average Reading Score</th>        <th class=\"col_heading level0 col7\" >% Passing Math</th>        <th class=\"col_heading level0 col8\" >% Passing Reading</th>        <th class=\"col_heading level0 col9\" >% Overall Passing Rate</th>    </tr></thead><tbody>\n",
       "                <tr>\n",
       "                                <td id=\"T_c3b58e8c_3445_11ea_b5a6_f894c285f73brow0_col0\" class=\"data row0 col0\" >Rodriguez High School</td>\n",
       "                        <td id=\"T_c3b58e8c_3445_11ea_b5a6_f894c285f73brow0_col1\" class=\"data row0 col1\" >District</td>\n",
       "                        <td id=\"T_c3b58e8c_3445_11ea_b5a6_f894c285f73brow0_col2\" class=\"data row0 col2\" >3999</td>\n",
       "                        <td id=\"T_c3b58e8c_3445_11ea_b5a6_f894c285f73brow0_col3\" class=\"data row0 col3\" >$2,547,363.00</td>\n",
       "                        <td id=\"T_c3b58e8c_3445_11ea_b5a6_f894c285f73brow0_col4\" class=\"data row0 col4\" >$637.00</td>\n",
       "                        <td id=\"T_c3b58e8c_3445_11ea_b5a6_f894c285f73brow0_col5\" class=\"data row0 col5\" >76.842711</td>\n",
       "                        <td id=\"T_c3b58e8c_3445_11ea_b5a6_f894c285f73brow0_col6\" class=\"data row0 col6\" >80.744686</td>\n",
       "                        <td id=\"T_c3b58e8c_3445_11ea_b5a6_f894c285f73brow0_col7\" class=\"data row0 col7\" >66.366592</td>\n",
       "                        <td id=\"T_c3b58e8c_3445_11ea_b5a6_f894c285f73brow0_col8\" class=\"data row0 col8\" >80.220055</td>\n",
       "                        <td id=\"T_c3b58e8c_3445_11ea_b5a6_f894c285f73brow0_col9\" class=\"data row0 col9\" >73.293323</td>\n",
       "            </tr>\n",
       "            <tr>\n",
       "                                <td id=\"T_c3b58e8c_3445_11ea_b5a6_f894c285f73brow1_col0\" class=\"data row1 col0\" >Figueroa High School</td>\n",
       "                        <td id=\"T_c3b58e8c_3445_11ea_b5a6_f894c285f73brow1_col1\" class=\"data row1 col1\" >District</td>\n",
       "                        <td id=\"T_c3b58e8c_3445_11ea_b5a6_f894c285f73brow1_col2\" class=\"data row1 col2\" >2949</td>\n",
       "                        <td id=\"T_c3b58e8c_3445_11ea_b5a6_f894c285f73brow1_col3\" class=\"data row1 col3\" >$1,884,411.00</td>\n",
       "                        <td id=\"T_c3b58e8c_3445_11ea_b5a6_f894c285f73brow1_col4\" class=\"data row1 col4\" >$639.00</td>\n",
       "                        <td id=\"T_c3b58e8c_3445_11ea_b5a6_f894c285f73brow1_col5\" class=\"data row1 col5\" >76.711767</td>\n",
       "                        <td id=\"T_c3b58e8c_3445_11ea_b5a6_f894c285f73brow1_col6\" class=\"data row1 col6\" >81.158020</td>\n",
       "                        <td id=\"T_c3b58e8c_3445_11ea_b5a6_f894c285f73brow1_col7\" class=\"data row1 col7\" >65.988471</td>\n",
       "                        <td id=\"T_c3b58e8c_3445_11ea_b5a6_f894c285f73brow1_col8\" class=\"data row1 col8\" >80.739234</td>\n",
       "                        <td id=\"T_c3b58e8c_3445_11ea_b5a6_f894c285f73brow1_col9\" class=\"data row1 col9\" >73.363852</td>\n",
       "            </tr>\n",
       "            <tr>\n",
       "                                <td id=\"T_c3b58e8c_3445_11ea_b5a6_f894c285f73brow2_col0\" class=\"data row2 col0\" >Huang High School</td>\n",
       "                        <td id=\"T_c3b58e8c_3445_11ea_b5a6_f894c285f73brow2_col1\" class=\"data row2 col1\" >District</td>\n",
       "                        <td id=\"T_c3b58e8c_3445_11ea_b5a6_f894c285f73brow2_col2\" class=\"data row2 col2\" >2917</td>\n",
       "                        <td id=\"T_c3b58e8c_3445_11ea_b5a6_f894c285f73brow2_col3\" class=\"data row2 col3\" >$1,910,635.00</td>\n",
       "                        <td id=\"T_c3b58e8c_3445_11ea_b5a6_f894c285f73brow2_col4\" class=\"data row2 col4\" >$655.00</td>\n",
       "                        <td id=\"T_c3b58e8c_3445_11ea_b5a6_f894c285f73brow2_col5\" class=\"data row2 col5\" >76.629414</td>\n",
       "                        <td id=\"T_c3b58e8c_3445_11ea_b5a6_f894c285f73brow2_col6\" class=\"data row2 col6\" >81.182722</td>\n",
       "                        <td id=\"T_c3b58e8c_3445_11ea_b5a6_f894c285f73brow2_col7\" class=\"data row2 col7\" >65.683922</td>\n",
       "                        <td id=\"T_c3b58e8c_3445_11ea_b5a6_f894c285f73brow2_col8\" class=\"data row2 col8\" >81.316421</td>\n",
       "                        <td id=\"T_c3b58e8c_3445_11ea_b5a6_f894c285f73brow2_col9\" class=\"data row2 col9\" >73.500171</td>\n",
       "            </tr>\n",
       "            <tr>\n",
       "                                <td id=\"T_c3b58e8c_3445_11ea_b5a6_f894c285f73brow3_col0\" class=\"data row3 col0\" >Johnson High School</td>\n",
       "                        <td id=\"T_c3b58e8c_3445_11ea_b5a6_f894c285f73brow3_col1\" class=\"data row3 col1\" >District</td>\n",
       "                        <td id=\"T_c3b58e8c_3445_11ea_b5a6_f894c285f73brow3_col2\" class=\"data row3 col2\" >4761</td>\n",
       "                        <td id=\"T_c3b58e8c_3445_11ea_b5a6_f894c285f73brow3_col3\" class=\"data row3 col3\" >$3,094,650.00</td>\n",
       "                        <td id=\"T_c3b58e8c_3445_11ea_b5a6_f894c285f73brow3_col4\" class=\"data row3 col4\" >$650.00</td>\n",
       "                        <td id=\"T_c3b58e8c_3445_11ea_b5a6_f894c285f73brow3_col5\" class=\"data row3 col5\" >77.072464</td>\n",
       "                        <td id=\"T_c3b58e8c_3445_11ea_b5a6_f894c285f73brow3_col6\" class=\"data row3 col6\" >80.966394</td>\n",
       "                        <td id=\"T_c3b58e8c_3445_11ea_b5a6_f894c285f73brow3_col7\" class=\"data row3 col7\" >66.057551</td>\n",
       "                        <td id=\"T_c3b58e8c_3445_11ea_b5a6_f894c285f73brow3_col8\" class=\"data row3 col8\" >81.222432</td>\n",
       "                        <td id=\"T_c3b58e8c_3445_11ea_b5a6_f894c285f73brow3_col9\" class=\"data row3 col9\" >73.639992</td>\n",
       "            </tr>\n",
       "            <tr>\n",
       "                                <td id=\"T_c3b58e8c_3445_11ea_b5a6_f894c285f73brow4_col0\" class=\"data row4 col0\" >Ford High School</td>\n",
       "                        <td id=\"T_c3b58e8c_3445_11ea_b5a6_f894c285f73brow4_col1\" class=\"data row4 col1\" >District</td>\n",
       "                        <td id=\"T_c3b58e8c_3445_11ea_b5a6_f894c285f73brow4_col2\" class=\"data row4 col2\" >2739</td>\n",
       "                        <td id=\"T_c3b58e8c_3445_11ea_b5a6_f894c285f73brow4_col3\" class=\"data row4 col3\" >$1,763,916.00</td>\n",
       "                        <td id=\"T_c3b58e8c_3445_11ea_b5a6_f894c285f73brow4_col4\" class=\"data row4 col4\" >$644.00</td>\n",
       "                        <td id=\"T_c3b58e8c_3445_11ea_b5a6_f894c285f73brow4_col5\" class=\"data row4 col5\" >77.102592</td>\n",
       "                        <td id=\"T_c3b58e8c_3445_11ea_b5a6_f894c285f73brow4_col6\" class=\"data row4 col6\" >80.746258</td>\n",
       "                        <td id=\"T_c3b58e8c_3445_11ea_b5a6_f894c285f73brow4_col7\" class=\"data row4 col7\" >68.309602</td>\n",
       "                        <td id=\"T_c3b58e8c_3445_11ea_b5a6_f894c285f73brow4_col8\" class=\"data row4 col8\" >79.299014</td>\n",
       "                        <td id=\"T_c3b58e8c_3445_11ea_b5a6_f894c285f73brow4_col9\" class=\"data row4 col9\" >73.804308</td>\n",
       "            </tr>\n",
       "    </tbody></table>"
      ],
      "text/plain": [
       "<pandas.io.formats.style.Styler at 0x1c707a67b88>"
      ]
     },
     "execution_count": 1034,
     "metadata": {},
     "output_type": "execute_result"
    }
   ],
   "source": [
    "# Display 5 worst performing schools by overall passing rate\n",
    "clean_school_perf_summary.sort_values(by=['% Overall Passing Rate'], ascending=True).head(5).style.hide_index()"
   ]
  },
  {
   "cell_type": "markdown",
   "metadata": {
    "collapsed": true
   },
   "source": [
    "## Math Scores by Grade"
   ]
  },
  {
   "cell_type": "markdown",
   "metadata": {},
   "source": [
    "* Create a table that lists the average Reading Score for students of each grade level (9th, 10th, 11th, 12th) at each school.\n",
    "\n",
    "  * Create a pandas series for each grade. Hint: use a conditional statement.\n",
    "  \n",
    "  * Group each series by school\n",
    "  \n",
    "  * Combine the series into a dataframe\n",
    "  \n",
    "  * Optional: give the displayed data cleaner formatting"
   ]
  },
  {
   "cell_type": "code",
   "execution_count": 1035,
   "metadata": {},
   "outputs": [],
   "source": [
    "# Create a pandas series for each grade.  Hint: use a conditional statement:"
   ]
  },
  {
   "cell_type": "code",
   "execution_count": 1036,
   "metadata": {},
   "outputs": [],
   "source": [
    "ninth_math_avg = school_data_complete[school_data_complete['grade'] == '9th'].groupby('school_name')[\"math_score\"].mean()\n",
    "#####################################################################################\n",
    "# validate calc\n",
    "#ninth_math_avg"
   ]
  },
  {
   "cell_type": "code",
   "execution_count": 1037,
   "metadata": {},
   "outputs": [],
   "source": [
    "tenth_math_avg = school_data_complete[school_data_complete['grade'] == '10th'].groupby('school_name')[\"math_score\"].mean()\n",
    "#####################################################################################\n",
    "# validate calc\n",
    "#tenth_math_avg"
   ]
  },
  {
   "cell_type": "code",
   "execution_count": 1038,
   "metadata": {},
   "outputs": [],
   "source": [
    "eleventh_math_avg = school_data_complete[school_data_complete['grade'] == '11th'].groupby('school_name')[\"math_score\"].mean()\n",
    "#####################################################################################\n",
    "# validate calc\n",
    "#eleventh_math_avg"
   ]
  },
  {
   "cell_type": "code",
   "execution_count": 1039,
   "metadata": {},
   "outputs": [],
   "source": [
    "twelveth_math_avg = school_data_complete[school_data_complete['grade'] == '12th'].groupby('school_name')[\"math_score\"].mean()\n",
    "#####################################################################################\n",
    "# validate calc\n",
    "#twelveth_math_avg"
   ]
  },
  {
   "cell_type": "code",
   "execution_count": 1040,
   "metadata": {},
   "outputs": [],
   "source": [
    "# Combine the series into a dataframe\n",
    "math_scores_by_grade = pd.DataFrame({\n",
    "    \n",
    "     # Format averages to 6 decimal places\n",
    "    '9th':ninth_math_avg.map('{:,.6f}'.format),\n",
    "    '10th':tenth_math_avg.map('{:,.6f}'.format),\n",
    "    '11th':eleventh_math_avg.map('{:,.6f}'.format),\n",
    "    '12th':twelveth_math_avg.map('{:,.6f}'.format)\n",
    "}).reset_index()"
   ]
  },
  {
   "cell_type": "code",
   "execution_count": 1041,
   "metadata": {},
   "outputs": [],
   "source": [
    "# Rename Index columns for display\n",
    "clean_math_scores_by_grade = math_scores_by_grade.rename(columns={'school_name':'School Name'}).style.hide_index()"
   ]
  },
  {
   "cell_type": "code",
   "execution_count": 1042,
   "metadata": {},
   "outputs": [
    {
     "data": {
      "text/html": [
       "<style  type=\"text/css\" >\n",
       "</style><table id=\"T_c51954f4_3445_11ea_9b17_f894c285f73b\" ><thead>    <tr>        <th class=\"col_heading level0 col0\" >School Name</th>        <th class=\"col_heading level0 col1\" >9th</th>        <th class=\"col_heading level0 col2\" >10th</th>        <th class=\"col_heading level0 col3\" >11th</th>        <th class=\"col_heading level0 col4\" >12th</th>    </tr></thead><tbody>\n",
       "                <tr>\n",
       "                                <td id=\"T_c51954f4_3445_11ea_9b17_f894c285f73brow0_col0\" class=\"data row0 col0\" >Bailey High School</td>\n",
       "                        <td id=\"T_c51954f4_3445_11ea_9b17_f894c285f73brow0_col1\" class=\"data row0 col1\" >77.083676</td>\n",
       "                        <td id=\"T_c51954f4_3445_11ea_9b17_f894c285f73brow0_col2\" class=\"data row0 col2\" >76.996772</td>\n",
       "                        <td id=\"T_c51954f4_3445_11ea_9b17_f894c285f73brow0_col3\" class=\"data row0 col3\" >77.515588</td>\n",
       "                        <td id=\"T_c51954f4_3445_11ea_9b17_f894c285f73brow0_col4\" class=\"data row0 col4\" >76.492218</td>\n",
       "            </tr>\n",
       "            <tr>\n",
       "                                <td id=\"T_c51954f4_3445_11ea_9b17_f894c285f73brow1_col0\" class=\"data row1 col0\" >Cabrera High School</td>\n",
       "                        <td id=\"T_c51954f4_3445_11ea_9b17_f894c285f73brow1_col1\" class=\"data row1 col1\" >83.094697</td>\n",
       "                        <td id=\"T_c51954f4_3445_11ea_9b17_f894c285f73brow1_col2\" class=\"data row1 col2\" >83.154506</td>\n",
       "                        <td id=\"T_c51954f4_3445_11ea_9b17_f894c285f73brow1_col3\" class=\"data row1 col3\" >82.765560</td>\n",
       "                        <td id=\"T_c51954f4_3445_11ea_9b17_f894c285f73brow1_col4\" class=\"data row1 col4\" >83.277487</td>\n",
       "            </tr>\n",
       "            <tr>\n",
       "                                <td id=\"T_c51954f4_3445_11ea_9b17_f894c285f73brow2_col0\" class=\"data row2 col0\" >Figueroa High School</td>\n",
       "                        <td id=\"T_c51954f4_3445_11ea_9b17_f894c285f73brow2_col1\" class=\"data row2 col1\" >76.403037</td>\n",
       "                        <td id=\"T_c51954f4_3445_11ea_9b17_f894c285f73brow2_col2\" class=\"data row2 col2\" >76.539974</td>\n",
       "                        <td id=\"T_c51954f4_3445_11ea_9b17_f894c285f73brow2_col3\" class=\"data row2 col3\" >76.884344</td>\n",
       "                        <td id=\"T_c51954f4_3445_11ea_9b17_f894c285f73brow2_col4\" class=\"data row2 col4\" >77.151369</td>\n",
       "            </tr>\n",
       "            <tr>\n",
       "                                <td id=\"T_c51954f4_3445_11ea_9b17_f894c285f73brow3_col0\" class=\"data row3 col0\" >Ford High School</td>\n",
       "                        <td id=\"T_c51954f4_3445_11ea_9b17_f894c285f73brow3_col1\" class=\"data row3 col1\" >77.361345</td>\n",
       "                        <td id=\"T_c51954f4_3445_11ea_9b17_f894c285f73brow3_col2\" class=\"data row3 col2\" >77.672316</td>\n",
       "                        <td id=\"T_c51954f4_3445_11ea_9b17_f894c285f73brow3_col3\" class=\"data row3 col3\" >76.918058</td>\n",
       "                        <td id=\"T_c51954f4_3445_11ea_9b17_f894c285f73brow3_col4\" class=\"data row3 col4\" >76.179963</td>\n",
       "            </tr>\n",
       "            <tr>\n",
       "                                <td id=\"T_c51954f4_3445_11ea_9b17_f894c285f73brow4_col0\" class=\"data row4 col0\" >Griffin High School</td>\n",
       "                        <td id=\"T_c51954f4_3445_11ea_9b17_f894c285f73brow4_col1\" class=\"data row4 col1\" >82.044010</td>\n",
       "                        <td id=\"T_c51954f4_3445_11ea_9b17_f894c285f73brow4_col2\" class=\"data row4 col2\" >84.229064</td>\n",
       "                        <td id=\"T_c51954f4_3445_11ea_9b17_f894c285f73brow4_col3\" class=\"data row4 col3\" >83.842105</td>\n",
       "                        <td id=\"T_c51954f4_3445_11ea_9b17_f894c285f73brow4_col4\" class=\"data row4 col4\" >83.356164</td>\n",
       "            </tr>\n",
       "            <tr>\n",
       "                                <td id=\"T_c51954f4_3445_11ea_9b17_f894c285f73brow5_col0\" class=\"data row5 col0\" >Hernandez High School</td>\n",
       "                        <td id=\"T_c51954f4_3445_11ea_9b17_f894c285f73brow5_col1\" class=\"data row5 col1\" >77.438495</td>\n",
       "                        <td id=\"T_c51954f4_3445_11ea_9b17_f894c285f73brow5_col2\" class=\"data row5 col2\" >77.337408</td>\n",
       "                        <td id=\"T_c51954f4_3445_11ea_9b17_f894c285f73brow5_col3\" class=\"data row5 col3\" >77.136029</td>\n",
       "                        <td id=\"T_c51954f4_3445_11ea_9b17_f894c285f73brow5_col4\" class=\"data row5 col4\" >77.186567</td>\n",
       "            </tr>\n",
       "            <tr>\n",
       "                                <td id=\"T_c51954f4_3445_11ea_9b17_f894c285f73brow6_col0\" class=\"data row6 col0\" >Holden High School</td>\n",
       "                        <td id=\"T_c51954f4_3445_11ea_9b17_f894c285f73brow6_col1\" class=\"data row6 col1\" >83.787402</td>\n",
       "                        <td id=\"T_c51954f4_3445_11ea_9b17_f894c285f73brow6_col2\" class=\"data row6 col2\" >83.429825</td>\n",
       "                        <td id=\"T_c51954f4_3445_11ea_9b17_f894c285f73brow6_col3\" class=\"data row6 col3\" >85.000000</td>\n",
       "                        <td id=\"T_c51954f4_3445_11ea_9b17_f894c285f73brow6_col4\" class=\"data row6 col4\" >82.855422</td>\n",
       "            </tr>\n",
       "            <tr>\n",
       "                                <td id=\"T_c51954f4_3445_11ea_9b17_f894c285f73brow7_col0\" class=\"data row7 col0\" >Huang High School</td>\n",
       "                        <td id=\"T_c51954f4_3445_11ea_9b17_f894c285f73brow7_col1\" class=\"data row7 col1\" >77.027251</td>\n",
       "                        <td id=\"T_c51954f4_3445_11ea_9b17_f894c285f73brow7_col2\" class=\"data row7 col2\" >75.908735</td>\n",
       "                        <td id=\"T_c51954f4_3445_11ea_9b17_f894c285f73brow7_col3\" class=\"data row7 col3\" >76.446602</td>\n",
       "                        <td id=\"T_c51954f4_3445_11ea_9b17_f894c285f73brow7_col4\" class=\"data row7 col4\" >77.225641</td>\n",
       "            </tr>\n",
       "            <tr>\n",
       "                                <td id=\"T_c51954f4_3445_11ea_9b17_f894c285f73brow8_col0\" class=\"data row8 col0\" >Johnson High School</td>\n",
       "                        <td id=\"T_c51954f4_3445_11ea_9b17_f894c285f73brow8_col1\" class=\"data row8 col1\" >77.187857</td>\n",
       "                        <td id=\"T_c51954f4_3445_11ea_9b17_f894c285f73brow8_col2\" class=\"data row8 col2\" >76.691117</td>\n",
       "                        <td id=\"T_c51954f4_3445_11ea_9b17_f894c285f73brow8_col3\" class=\"data row8 col3\" >77.491653</td>\n",
       "                        <td id=\"T_c51954f4_3445_11ea_9b17_f894c285f73brow8_col4\" class=\"data row8 col4\" >76.863248</td>\n",
       "            </tr>\n",
       "            <tr>\n",
       "                                <td id=\"T_c51954f4_3445_11ea_9b17_f894c285f73brow9_col0\" class=\"data row9 col0\" >Pena High School</td>\n",
       "                        <td id=\"T_c51954f4_3445_11ea_9b17_f894c285f73brow9_col1\" class=\"data row9 col1\" >83.625455</td>\n",
       "                        <td id=\"T_c51954f4_3445_11ea_9b17_f894c285f73brow9_col2\" class=\"data row9 col2\" >83.372000</td>\n",
       "                        <td id=\"T_c51954f4_3445_11ea_9b17_f894c285f73brow9_col3\" class=\"data row9 col3\" >84.328125</td>\n",
       "                        <td id=\"T_c51954f4_3445_11ea_9b17_f894c285f73brow9_col4\" class=\"data row9 col4\" >84.121547</td>\n",
       "            </tr>\n",
       "            <tr>\n",
       "                                <td id=\"T_c51954f4_3445_11ea_9b17_f894c285f73brow10_col0\" class=\"data row10 col0\" >Rodriguez High School</td>\n",
       "                        <td id=\"T_c51954f4_3445_11ea_9b17_f894c285f73brow10_col1\" class=\"data row10 col1\" >76.859966</td>\n",
       "                        <td id=\"T_c51954f4_3445_11ea_9b17_f894c285f73brow10_col2\" class=\"data row10 col2\" >76.612500</td>\n",
       "                        <td id=\"T_c51954f4_3445_11ea_9b17_f894c285f73brow10_col3\" class=\"data row10 col3\" >76.395626</td>\n",
       "                        <td id=\"T_c51954f4_3445_11ea_9b17_f894c285f73brow10_col4\" class=\"data row10 col4\" >77.690748</td>\n",
       "            </tr>\n",
       "            <tr>\n",
       "                                <td id=\"T_c51954f4_3445_11ea_9b17_f894c285f73brow11_col0\" class=\"data row11 col0\" >Shelton High School</td>\n",
       "                        <td id=\"T_c51954f4_3445_11ea_9b17_f894c285f73brow11_col1\" class=\"data row11 col1\" >83.420755</td>\n",
       "                        <td id=\"T_c51954f4_3445_11ea_9b17_f894c285f73brow11_col2\" class=\"data row11 col2\" >82.917411</td>\n",
       "                        <td id=\"T_c51954f4_3445_11ea_9b17_f894c285f73brow11_col3\" class=\"data row11 col3\" >83.383495</td>\n",
       "                        <td id=\"T_c51954f4_3445_11ea_9b17_f894c285f73brow11_col4\" class=\"data row11 col4\" >83.778976</td>\n",
       "            </tr>\n",
       "            <tr>\n",
       "                                <td id=\"T_c51954f4_3445_11ea_9b17_f894c285f73brow12_col0\" class=\"data row12 col0\" >Thomas High School</td>\n",
       "                        <td id=\"T_c51954f4_3445_11ea_9b17_f894c285f73brow12_col1\" class=\"data row12 col1\" >83.590022</td>\n",
       "                        <td id=\"T_c51954f4_3445_11ea_9b17_f894c285f73brow12_col2\" class=\"data row12 col2\" >83.087886</td>\n",
       "                        <td id=\"T_c51954f4_3445_11ea_9b17_f894c285f73brow12_col3\" class=\"data row12 col3\" >83.498795</td>\n",
       "                        <td id=\"T_c51954f4_3445_11ea_9b17_f894c285f73brow12_col4\" class=\"data row12 col4\" >83.497041</td>\n",
       "            </tr>\n",
       "            <tr>\n",
       "                                <td id=\"T_c51954f4_3445_11ea_9b17_f894c285f73brow13_col0\" class=\"data row13 col0\" >Wilson High School</td>\n",
       "                        <td id=\"T_c51954f4_3445_11ea_9b17_f894c285f73brow13_col1\" class=\"data row13 col1\" >83.085578</td>\n",
       "                        <td id=\"T_c51954f4_3445_11ea_9b17_f894c285f73brow13_col2\" class=\"data row13 col2\" >83.724422</td>\n",
       "                        <td id=\"T_c51954f4_3445_11ea_9b17_f894c285f73brow13_col3\" class=\"data row13 col3\" >83.195326</td>\n",
       "                        <td id=\"T_c51954f4_3445_11ea_9b17_f894c285f73brow13_col4\" class=\"data row13 col4\" >83.035794</td>\n",
       "            </tr>\n",
       "            <tr>\n",
       "                                <td id=\"T_c51954f4_3445_11ea_9b17_f894c285f73brow14_col0\" class=\"data row14 col0\" >Wright High School</td>\n",
       "                        <td id=\"T_c51954f4_3445_11ea_9b17_f894c285f73brow14_col1\" class=\"data row14 col1\" >83.264706</td>\n",
       "                        <td id=\"T_c51954f4_3445_11ea_9b17_f894c285f73brow14_col2\" class=\"data row14 col2\" >84.010288</td>\n",
       "                        <td id=\"T_c51954f4_3445_11ea_9b17_f894c285f73brow14_col3\" class=\"data row14 col3\" >83.836782</td>\n",
       "                        <td id=\"T_c51954f4_3445_11ea_9b17_f894c285f73brow14_col4\" class=\"data row14 col4\" >83.644986</td>\n",
       "            </tr>\n",
       "    </tbody></table>"
      ],
      "text/plain": [
       "<pandas.io.formats.style.Styler at 0x1c707dcc208>"
      ]
     },
     "execution_count": 1042,
     "metadata": {},
     "output_type": "execute_result"
    }
   ],
   "source": [
    "# Display math scores by grade\n",
    "clean_math_scores_by_grade"
   ]
  },
  {
   "cell_type": "markdown",
   "metadata": {},
   "source": [
    "## Reading Score by Grade "
   ]
  },
  {
   "cell_type": "markdown",
   "metadata": {},
   "source": [
    "* Perform the same operations as above for reading scores"
   ]
  },
  {
   "cell_type": "code",
   "execution_count": 1043,
   "metadata": {},
   "outputs": [],
   "source": [
    "# Create a pandas series for each grade.  Hint: use a conditional statement:"
   ]
  },
  {
   "cell_type": "code",
   "execution_count": 1044,
   "metadata": {},
   "outputs": [],
   "source": [
    "ninth_reading_avg = school_data_complete[school_data_complete['grade'] == '9th'].groupby('school_name')['reading_score'].mean()\n",
    "#####################################################################################\n",
    "# validate calc\n",
    "#ninth_reading_avg"
   ]
  },
  {
   "cell_type": "code",
   "execution_count": 1045,
   "metadata": {},
   "outputs": [],
   "source": [
    "tenth_reading_avg = school_data_complete[school_data_complete['grade'] == '10th'].groupby('school_name')['reading_score'].mean()\n",
    "#####################################################################################\n",
    "# validate calc\n",
    "#tenth_reading_avg"
   ]
  },
  {
   "cell_type": "code",
   "execution_count": 1046,
   "metadata": {},
   "outputs": [],
   "source": [
    "eleventh_reading_avg = school_data_complete[school_data_complete['grade'] == '11th'].groupby('school_name')['reading_score'].mean()\n",
    "#####################################################################################\n",
    "# validate calc\n",
    "#eleventh_reading_avg"
   ]
  },
  {
   "cell_type": "code",
   "execution_count": 1047,
   "metadata": {},
   "outputs": [],
   "source": [
    "twelveth_reading_avg = school_data_complete[school_data_complete['grade'] == '12th'].groupby('school_name')['reading_score'].mean()\n",
    "#####################################################################################\n",
    "# validate calc\n",
    "#twelveth_reading_avg"
   ]
  },
  {
   "cell_type": "code",
   "execution_count": 1048,
   "metadata": {},
   "outputs": [],
   "source": [
    "# Combine the series into a dataframe\n",
    "reading_scores_by_grade = pd.DataFrame({\n",
    "    \n",
    "     # Format averages to 6 decimal places\n",
    "    '9th':ninth_reading_avg.map('{:,.6f}'.format),\n",
    "    '10th':tenth_reading_avg.map('{:,.6f}'.format),\n",
    "    '11th':eleventh_reading_avg.map('{:,.6f}'.format),\n",
    "    '12th':twelveth_reading_avg.map('{:,.6f}'.format)\n",
    "}).reset_index()"
   ]
  },
  {
   "cell_type": "code",
   "execution_count": 1049,
   "metadata": {},
   "outputs": [],
   "source": [
    "clean_reading_scores_by_grade = reading_scores_by_grade.rename(columns={'school_name':'School Name'}).style.hide_index()"
   ]
  },
  {
   "cell_type": "code",
   "execution_count": 1050,
   "metadata": {},
   "outputs": [
    {
     "data": {
      "text/html": [
       "<style  type=\"text/css\" >\n",
       "</style><table id=\"T_c665bf8c_3445_11ea_a3fc_f894c285f73b\" ><thead>    <tr>        <th class=\"col_heading level0 col0\" >School Name</th>        <th class=\"col_heading level0 col1\" >9th</th>        <th class=\"col_heading level0 col2\" >10th</th>        <th class=\"col_heading level0 col3\" >11th</th>        <th class=\"col_heading level0 col4\" >12th</th>    </tr></thead><tbody>\n",
       "                <tr>\n",
       "                                <td id=\"T_c665bf8c_3445_11ea_a3fc_f894c285f73brow0_col0\" class=\"data row0 col0\" >Bailey High School</td>\n",
       "                        <td id=\"T_c665bf8c_3445_11ea_a3fc_f894c285f73brow0_col1\" class=\"data row0 col1\" >81.303155</td>\n",
       "                        <td id=\"T_c665bf8c_3445_11ea_a3fc_f894c285f73brow0_col2\" class=\"data row0 col2\" >80.907183</td>\n",
       "                        <td id=\"T_c665bf8c_3445_11ea_a3fc_f894c285f73brow0_col3\" class=\"data row0 col3\" >80.945643</td>\n",
       "                        <td id=\"T_c665bf8c_3445_11ea_a3fc_f894c285f73brow0_col4\" class=\"data row0 col4\" >80.912451</td>\n",
       "            </tr>\n",
       "            <tr>\n",
       "                                <td id=\"T_c665bf8c_3445_11ea_a3fc_f894c285f73brow1_col0\" class=\"data row1 col0\" >Cabrera High School</td>\n",
       "                        <td id=\"T_c665bf8c_3445_11ea_a3fc_f894c285f73brow1_col1\" class=\"data row1 col1\" >83.676136</td>\n",
       "                        <td id=\"T_c665bf8c_3445_11ea_a3fc_f894c285f73brow1_col2\" class=\"data row1 col2\" >84.253219</td>\n",
       "                        <td id=\"T_c665bf8c_3445_11ea_a3fc_f894c285f73brow1_col3\" class=\"data row1 col3\" >83.788382</td>\n",
       "                        <td id=\"T_c665bf8c_3445_11ea_a3fc_f894c285f73brow1_col4\" class=\"data row1 col4\" >84.287958</td>\n",
       "            </tr>\n",
       "            <tr>\n",
       "                                <td id=\"T_c665bf8c_3445_11ea_a3fc_f894c285f73brow2_col0\" class=\"data row2 col0\" >Figueroa High School</td>\n",
       "                        <td id=\"T_c665bf8c_3445_11ea_a3fc_f894c285f73brow2_col1\" class=\"data row2 col1\" >81.198598</td>\n",
       "                        <td id=\"T_c665bf8c_3445_11ea_a3fc_f894c285f73brow2_col2\" class=\"data row2 col2\" >81.408912</td>\n",
       "                        <td id=\"T_c665bf8c_3445_11ea_a3fc_f894c285f73brow2_col3\" class=\"data row2 col3\" >80.640339</td>\n",
       "                        <td id=\"T_c665bf8c_3445_11ea_a3fc_f894c285f73brow2_col4\" class=\"data row2 col4\" >81.384863</td>\n",
       "            </tr>\n",
       "            <tr>\n",
       "                                <td id=\"T_c665bf8c_3445_11ea_a3fc_f894c285f73brow3_col0\" class=\"data row3 col0\" >Ford High School</td>\n",
       "                        <td id=\"T_c665bf8c_3445_11ea_a3fc_f894c285f73brow3_col1\" class=\"data row3 col1\" >80.632653</td>\n",
       "                        <td id=\"T_c665bf8c_3445_11ea_a3fc_f894c285f73brow3_col2\" class=\"data row3 col2\" >81.262712</td>\n",
       "                        <td id=\"T_c665bf8c_3445_11ea_a3fc_f894c285f73brow3_col3\" class=\"data row3 col3\" >80.403642</td>\n",
       "                        <td id=\"T_c665bf8c_3445_11ea_a3fc_f894c285f73brow3_col4\" class=\"data row3 col4\" >80.662338</td>\n",
       "            </tr>\n",
       "            <tr>\n",
       "                                <td id=\"T_c665bf8c_3445_11ea_a3fc_f894c285f73brow4_col0\" class=\"data row4 col0\" >Griffin High School</td>\n",
       "                        <td id=\"T_c665bf8c_3445_11ea_a3fc_f894c285f73brow4_col1\" class=\"data row4 col1\" >83.369193</td>\n",
       "                        <td id=\"T_c665bf8c_3445_11ea_a3fc_f894c285f73brow4_col2\" class=\"data row4 col2\" >83.706897</td>\n",
       "                        <td id=\"T_c665bf8c_3445_11ea_a3fc_f894c285f73brow4_col3\" class=\"data row4 col3\" >84.288089</td>\n",
       "                        <td id=\"T_c665bf8c_3445_11ea_a3fc_f894c285f73brow4_col4\" class=\"data row4 col4\" >84.013699</td>\n",
       "            </tr>\n",
       "            <tr>\n",
       "                                <td id=\"T_c665bf8c_3445_11ea_a3fc_f894c285f73brow5_col0\" class=\"data row5 col0\" >Hernandez High School</td>\n",
       "                        <td id=\"T_c665bf8c_3445_11ea_a3fc_f894c285f73brow5_col1\" class=\"data row5 col1\" >80.866860</td>\n",
       "                        <td id=\"T_c665bf8c_3445_11ea_a3fc_f894c285f73brow5_col2\" class=\"data row5 col2\" >80.660147</td>\n",
       "                        <td id=\"T_c665bf8c_3445_11ea_a3fc_f894c285f73brow5_col3\" class=\"data row5 col3\" >81.396140</td>\n",
       "                        <td id=\"T_c665bf8c_3445_11ea_a3fc_f894c285f73brow5_col4\" class=\"data row5 col4\" >80.857143</td>\n",
       "            </tr>\n",
       "            <tr>\n",
       "                                <td id=\"T_c665bf8c_3445_11ea_a3fc_f894c285f73brow6_col0\" class=\"data row6 col0\" >Holden High School</td>\n",
       "                        <td id=\"T_c665bf8c_3445_11ea_a3fc_f894c285f73brow6_col1\" class=\"data row6 col1\" >83.677165</td>\n",
       "                        <td id=\"T_c665bf8c_3445_11ea_a3fc_f894c285f73brow6_col2\" class=\"data row6 col2\" >83.324561</td>\n",
       "                        <td id=\"T_c665bf8c_3445_11ea_a3fc_f894c285f73brow6_col3\" class=\"data row6 col3\" >83.815534</td>\n",
       "                        <td id=\"T_c665bf8c_3445_11ea_a3fc_f894c285f73brow6_col4\" class=\"data row6 col4\" >84.698795</td>\n",
       "            </tr>\n",
       "            <tr>\n",
       "                                <td id=\"T_c665bf8c_3445_11ea_a3fc_f894c285f73brow7_col0\" class=\"data row7 col0\" >Huang High School</td>\n",
       "                        <td id=\"T_c665bf8c_3445_11ea_a3fc_f894c285f73brow7_col1\" class=\"data row7 col1\" >81.290284</td>\n",
       "                        <td id=\"T_c665bf8c_3445_11ea_a3fc_f894c285f73brow7_col2\" class=\"data row7 col2\" >81.512386</td>\n",
       "                        <td id=\"T_c665bf8c_3445_11ea_a3fc_f894c285f73brow7_col3\" class=\"data row7 col3\" >81.417476</td>\n",
       "                        <td id=\"T_c665bf8c_3445_11ea_a3fc_f894c285f73brow7_col4\" class=\"data row7 col4\" >80.305983</td>\n",
       "            </tr>\n",
       "            <tr>\n",
       "                                <td id=\"T_c665bf8c_3445_11ea_a3fc_f894c285f73brow8_col0\" class=\"data row8 col0\" >Johnson High School</td>\n",
       "                        <td id=\"T_c665bf8c_3445_11ea_a3fc_f894c285f73brow8_col1\" class=\"data row8 col1\" >81.260714</td>\n",
       "                        <td id=\"T_c665bf8c_3445_11ea_a3fc_f894c285f73brow8_col2\" class=\"data row8 col2\" >80.773431</td>\n",
       "                        <td id=\"T_c665bf8c_3445_11ea_a3fc_f894c285f73brow8_col3\" class=\"data row8 col3\" >80.616027</td>\n",
       "                        <td id=\"T_c665bf8c_3445_11ea_a3fc_f894c285f73brow8_col4\" class=\"data row8 col4\" >81.227564</td>\n",
       "            </tr>\n",
       "            <tr>\n",
       "                                <td id=\"T_c665bf8c_3445_11ea_a3fc_f894c285f73brow9_col0\" class=\"data row9 col0\" >Pena High School</td>\n",
       "                        <td id=\"T_c665bf8c_3445_11ea_a3fc_f894c285f73brow9_col1\" class=\"data row9 col1\" >83.807273</td>\n",
       "                        <td id=\"T_c665bf8c_3445_11ea_a3fc_f894c285f73brow9_col2\" class=\"data row9 col2\" >83.612000</td>\n",
       "                        <td id=\"T_c665bf8c_3445_11ea_a3fc_f894c285f73brow9_col3\" class=\"data row9 col3\" >84.335938</td>\n",
       "                        <td id=\"T_c665bf8c_3445_11ea_a3fc_f894c285f73brow9_col4\" class=\"data row9 col4\" >84.591160</td>\n",
       "            </tr>\n",
       "            <tr>\n",
       "                                <td id=\"T_c665bf8c_3445_11ea_a3fc_f894c285f73brow10_col0\" class=\"data row10 col0\" >Rodriguez High School</td>\n",
       "                        <td id=\"T_c665bf8c_3445_11ea_a3fc_f894c285f73brow10_col1\" class=\"data row10 col1\" >80.993127</td>\n",
       "                        <td id=\"T_c665bf8c_3445_11ea_a3fc_f894c285f73brow10_col2\" class=\"data row10 col2\" >80.629808</td>\n",
       "                        <td id=\"T_c665bf8c_3445_11ea_a3fc_f894c285f73brow10_col3\" class=\"data row10 col3\" >80.864811</td>\n",
       "                        <td id=\"T_c665bf8c_3445_11ea_a3fc_f894c285f73brow10_col4\" class=\"data row10 col4\" >80.376426</td>\n",
       "            </tr>\n",
       "            <tr>\n",
       "                                <td id=\"T_c665bf8c_3445_11ea_a3fc_f894c285f73brow11_col0\" class=\"data row11 col0\" >Shelton High School</td>\n",
       "                        <td id=\"T_c665bf8c_3445_11ea_a3fc_f894c285f73brow11_col1\" class=\"data row11 col1\" >84.122642</td>\n",
       "                        <td id=\"T_c665bf8c_3445_11ea_a3fc_f894c285f73brow11_col2\" class=\"data row11 col2\" >83.441964</td>\n",
       "                        <td id=\"T_c665bf8c_3445_11ea_a3fc_f894c285f73brow11_col3\" class=\"data row11 col3\" >84.373786</td>\n",
       "                        <td id=\"T_c665bf8c_3445_11ea_a3fc_f894c285f73brow11_col4\" class=\"data row11 col4\" >82.781671</td>\n",
       "            </tr>\n",
       "            <tr>\n",
       "                                <td id=\"T_c665bf8c_3445_11ea_a3fc_f894c285f73brow12_col0\" class=\"data row12 col0\" >Thomas High School</td>\n",
       "                        <td id=\"T_c665bf8c_3445_11ea_a3fc_f894c285f73brow12_col1\" class=\"data row12 col1\" >83.728850</td>\n",
       "                        <td id=\"T_c665bf8c_3445_11ea_a3fc_f894c285f73brow12_col2\" class=\"data row12 col2\" >84.254157</td>\n",
       "                        <td id=\"T_c665bf8c_3445_11ea_a3fc_f894c285f73brow12_col3\" class=\"data row12 col3\" >83.585542</td>\n",
       "                        <td id=\"T_c665bf8c_3445_11ea_a3fc_f894c285f73brow12_col4\" class=\"data row12 col4\" >83.831361</td>\n",
       "            </tr>\n",
       "            <tr>\n",
       "                                <td id=\"T_c665bf8c_3445_11ea_a3fc_f894c285f73brow13_col0\" class=\"data row13 col0\" >Wilson High School</td>\n",
       "                        <td id=\"T_c665bf8c_3445_11ea_a3fc_f894c285f73brow13_col1\" class=\"data row13 col1\" >83.939778</td>\n",
       "                        <td id=\"T_c665bf8c_3445_11ea_a3fc_f894c285f73brow13_col2\" class=\"data row13 col2\" >84.021452</td>\n",
       "                        <td id=\"T_c665bf8c_3445_11ea_a3fc_f894c285f73brow13_col3\" class=\"data row13 col3\" >83.764608</td>\n",
       "                        <td id=\"T_c665bf8c_3445_11ea_a3fc_f894c285f73brow13_col4\" class=\"data row13 col4\" >84.317673</td>\n",
       "            </tr>\n",
       "            <tr>\n",
       "                                <td id=\"T_c665bf8c_3445_11ea_a3fc_f894c285f73brow14_col0\" class=\"data row14 col0\" >Wright High School</td>\n",
       "                        <td id=\"T_c665bf8c_3445_11ea_a3fc_f894c285f73brow14_col1\" class=\"data row14 col1\" >83.833333</td>\n",
       "                        <td id=\"T_c665bf8c_3445_11ea_a3fc_f894c285f73brow14_col2\" class=\"data row14 col2\" >83.812757</td>\n",
       "                        <td id=\"T_c665bf8c_3445_11ea_a3fc_f894c285f73brow14_col3\" class=\"data row14 col3\" >84.156322</td>\n",
       "                        <td id=\"T_c665bf8c_3445_11ea_a3fc_f894c285f73brow14_col4\" class=\"data row14 col4\" >84.073171</td>\n",
       "            </tr>\n",
       "    </tbody></table>"
      ],
      "text/plain": [
       "<pandas.io.formats.style.Styler at 0x1c707a751c8>"
      ]
     },
     "execution_count": 1050,
     "metadata": {},
     "output_type": "execute_result"
    }
   ],
   "source": [
    "# Display reading scores by grade\n",
    "clean_reading_scores_by_grade"
   ]
  },
  {
   "cell_type": "markdown",
   "metadata": {},
   "source": [
    "## Scores by School Spending"
   ]
  },
  {
   "cell_type": "markdown",
   "metadata": {},
   "source": [
    "* Create a table that breaks down school performances based on average Spending Ranges (Per Student). Use 4 reasonable bins to group school spending. Include in the table each of the following:\n",
    "  * Average Math Score\n",
    "  * Average Reading Score\n",
    "  * % Passing Math\n",
    "  * % Passing Reading\n",
    "  * Overall Passing Rate (Average of the above two)"
   ]
  },
  {
   "cell_type": "code",
   "execution_count": 1051,
   "metadata": {
    "scrolled": false
   },
   "outputs": [],
   "source": [
    "# Re-Saved school performance data to DataFrame... removing numbers stored as string literal\n",
    "\n",
    "cl_perf_data = pd.DataFrame({\n",
    "    'Total Students':total_students_by_school,\n",
    "    'Total School Budget':total_budget_by_school,\n",
    "    'Per Student Budget':total_budget_by_student,\n",
    "    \n",
    "    # Format non-monetary values to 6 decimal places\n",
    "    'Average Math Score':avg_math_score_by_school.map('{:,.6f}'.format).astype(float),\n",
    "    'Average Reading Score':avg_reading_score_by_school.map('{:,.6f}'.format).astype(float),\n",
    "    '% Passing Math':(percent_math_score_by_school*100).map('{:,.6f}'.format).astype(float),\n",
    "    '% Passing Reading':(percent_reading_score_by_school*100).map('{:,.6f}'.format).astype(float),\n",
    "    '% Overall Passing Rate':(percent_overall_avg_by_school*100).astype(float).round(6)\n",
    "}).reset_index()"
   ]
  },
  {
   "cell_type": "code",
   "execution_count": 1052,
   "metadata": {},
   "outputs": [],
   "source": [
    "# validate data types\n",
    "#cl_perf_data.dtypes"
   ]
  },
  {
   "cell_type": "code",
   "execution_count": 1053,
   "metadata": {},
   "outputs": [],
   "source": [
    "# validate structure\n",
    "#cl_perf_data.head(1)"
   ]
  },
  {
   "cell_type": "code",
   "execution_count": 1054,
   "metadata": {},
   "outputs": [],
   "source": [
    "cl_perf_data[\"Spending Ranges (Per Student)\"] = pd.cut(cl_perf_data[\"Per Student Budget\"], spending_bins, labels=group_names)"
   ]
  },
  {
   "cell_type": "code",
   "execution_count": 1055,
   "metadata": {},
   "outputs": [],
   "source": [
    "# Check for new column \"Spending Ranges (Per Student)\"\n",
    "#cl_perf_data.head(1)"
   ]
  },
  {
   "cell_type": "code",
   "execution_count": 1056,
   "metadata": {},
   "outputs": [],
   "source": [
    "spending_ranges = cl_perf_data.groupby(\"Spending Ranges (Per Student)\")"
   ]
  },
  {
   "cell_type": "code",
   "execution_count": 1057,
   "metadata": {},
   "outputs": [],
   "source": [
    "# Check for correct data aggregation\n",
    "#spending_ranges.mean()"
   ]
  },
  {
   "cell_type": "code",
   "execution_count": 1058,
   "metadata": {},
   "outputs": [],
   "source": [
    "# Select columns of interest\n",
    "spending_range_data = spending_ranges[['Average Math Score','Average Reading Score','% Passing Math','% Passing Reading','% Overall Passing Rate']]"
   ]
  },
  {
   "cell_type": "code",
   "execution_count": 1059,
   "metadata": {},
   "outputs": [
    {
     "data": {
      "text/html": [
       "<div>\n",
       "<style scoped>\n",
       "    .dataframe tbody tr th:only-of-type {\n",
       "        vertical-align: middle;\n",
       "    }\n",
       "\n",
       "    .dataframe tbody tr th {\n",
       "        vertical-align: top;\n",
       "    }\n",
       "\n",
       "    .dataframe thead th {\n",
       "        text-align: right;\n",
       "    }\n",
       "</style>\n",
       "<table border=\"1\" class=\"dataframe\">\n",
       "  <thead>\n",
       "    <tr style=\"text-align: right;\">\n",
       "      <th></th>\n",
       "      <th>Average Math Score</th>\n",
       "      <th>Average Reading Score</th>\n",
       "      <th>% Passing Math</th>\n",
       "      <th>% Passing Reading</th>\n",
       "      <th>% Overall Passing Rate</th>\n",
       "    </tr>\n",
       "    <tr>\n",
       "      <th>Spending Ranges (Per Student)</th>\n",
       "      <th></th>\n",
       "      <th></th>\n",
       "      <th></th>\n",
       "      <th></th>\n",
       "      <th></th>\n",
       "    </tr>\n",
       "  </thead>\n",
       "  <tbody>\n",
       "    <tr>\n",
       "      <td>&lt;$585</td>\n",
       "      <td>83.46</td>\n",
       "      <td>83.93</td>\n",
       "      <td>93.46</td>\n",
       "      <td>96.61</td>\n",
       "      <td>95.04</td>\n",
       "    </tr>\n",
       "    <tr>\n",
       "      <td>$585-615</td>\n",
       "      <td>83.60</td>\n",
       "      <td>83.89</td>\n",
       "      <td>94.23</td>\n",
       "      <td>95.90</td>\n",
       "      <td>95.07</td>\n",
       "    </tr>\n",
       "    <tr>\n",
       "      <td>$615-645</td>\n",
       "      <td>79.08</td>\n",
       "      <td>81.89</td>\n",
       "      <td>75.67</td>\n",
       "      <td>86.11</td>\n",
       "      <td>80.89</td>\n",
       "    </tr>\n",
       "    <tr>\n",
       "      <td>$645-675</td>\n",
       "      <td>77.00</td>\n",
       "      <td>81.03</td>\n",
       "      <td>66.16</td>\n",
       "      <td>81.13</td>\n",
       "      <td>73.65</td>\n",
       "    </tr>\n",
       "  </tbody>\n",
       "</table>\n",
       "</div>"
      ],
      "text/plain": [
       "                               Average Math Score  Average Reading Score  \\\n",
       "Spending Ranges (Per Student)                                              \n",
       "<$585                                       83.46                  83.93   \n",
       "$585-615                                    83.60                  83.89   \n",
       "$615-645                                    79.08                  81.89   \n",
       "$645-675                                    77.00                  81.03   \n",
       "\n",
       "                               % Passing Math  % Passing Reading  \\\n",
       "Spending Ranges (Per Student)                                      \n",
       "<$585                                   93.46              96.61   \n",
       "$585-615                                94.23              95.90   \n",
       "$615-645                                75.67              86.11   \n",
       "$645-675                                66.16              81.13   \n",
       "\n",
       "                               % Overall Passing Rate  \n",
       "Spending Ranges (Per Student)                          \n",
       "<$585                                           95.04  \n",
       "$585-615                                        95.07  \n",
       "$615-645                                        80.89  \n",
       "$645-675                                        73.65  "
      ]
     },
     "execution_count": 1059,
     "metadata": {},
     "output_type": "execute_result"
    }
   ],
   "source": [
    "# Print Score by School Spending\n",
    "spending_range_data.mean()"
   ]
  },
  {
   "cell_type": "code",
   "execution_count": null,
   "metadata": {},
   "outputs": [],
   "source": []
  },
  {
   "cell_type": "code",
   "execution_count": 18,
   "metadata": {
    "scrolled": true
   },
   "outputs": [
    {
     "data": {
      "text/html": [
       "<div>\n",
       "<style scoped>\n",
       "    .dataframe tbody tr th:only-of-type {\n",
       "        vertical-align: middle;\n",
       "    }\n",
       "\n",
       "    .dataframe tbody tr th {\n",
       "        vertical-align: top;\n",
       "    }\n",
       "\n",
       "    .dataframe thead th {\n",
       "        text-align: right;\n",
       "    }\n",
       "</style>\n",
       "<table border=\"1\" class=\"dataframe\">\n",
       "  <thead>\n",
       "    <tr style=\"text-align: right;\">\n",
       "      <th></th>\n",
       "      <th>Average Math Score</th>\n",
       "      <th>Average Reading Score</th>\n",
       "      <th>% Passing Math</th>\n",
       "      <th>% Passing Reading</th>\n",
       "      <th>% Overall Passing Rate</th>\n",
       "    </tr>\n",
       "    <tr>\n",
       "      <th>Spending Ranges (Per Student)</th>\n",
       "      <th></th>\n",
       "      <th></th>\n",
       "      <th></th>\n",
       "      <th></th>\n",
       "      <th></th>\n",
       "    </tr>\n",
       "  </thead>\n",
       "  <tbody>\n",
       "    <tr>\n",
       "      <th>&lt;$585</th>\n",
       "      <td>83.455399</td>\n",
       "      <td>83.933814</td>\n",
       "      <td>93.460096</td>\n",
       "      <td>96.610877</td>\n",
       "      <td>95.035486</td>\n",
       "    </tr>\n",
       "    <tr>\n",
       "      <th>$585-615</th>\n",
       "      <td>83.599686</td>\n",
       "      <td>83.885211</td>\n",
       "      <td>94.230858</td>\n",
       "      <td>95.900287</td>\n",
       "      <td>95.065572</td>\n",
       "    </tr>\n",
       "    <tr>\n",
       "      <th>$615-645</th>\n",
       "      <td>79.079225</td>\n",
       "      <td>81.891436</td>\n",
       "      <td>75.668212</td>\n",
       "      <td>86.106569</td>\n",
       "      <td>80.887391</td>\n",
       "    </tr>\n",
       "    <tr>\n",
       "      <th>$645-675</th>\n",
       "      <td>76.997210</td>\n",
       "      <td>81.027843</td>\n",
       "      <td>66.164813</td>\n",
       "      <td>81.133951</td>\n",
       "      <td>73.649382</td>\n",
       "    </tr>\n",
       "  </tbody>\n",
       "</table>\n",
       "</div>"
      ],
      "text/plain": [
       "                               Average Math Score  Average Reading Score  \\\n",
       "Spending Ranges (Per Student)                                              \n",
       "<$585                                   83.455399              83.933814   \n",
       "$585-615                                83.599686              83.885211   \n",
       "$615-645                                79.079225              81.891436   \n",
       "$645-675                                76.997210              81.027843   \n",
       "\n",
       "                               % Passing Math  % Passing Reading  \\\n",
       "Spending Ranges (Per Student)                                      \n",
       "<$585                               93.460096          96.610877   \n",
       "$585-615                            94.230858          95.900287   \n",
       "$615-645                            75.668212          86.106569   \n",
       "$645-675                            66.164813          81.133951   \n",
       "\n",
       "                               % Overall Passing Rate  \n",
       "Spending Ranges (Per Student)                          \n",
       "<$585                                       95.035486  \n",
       "$585-615                                    95.065572  \n",
       "$615-645                                    80.887391  \n",
       "$645-675                                    73.649382  "
      ]
     },
     "execution_count": 18,
     "metadata": {},
     "output_type": "execute_result"
    }
   ],
   "source": []
  },
  {
   "cell_type": "markdown",
   "metadata": {},
   "source": [
    "## Scores by School Size"
   ]
  },
  {
   "cell_type": "markdown",
   "metadata": {},
   "source": [
    "* Perform the same operations as above, based on school size."
   ]
  },
  {
   "cell_type": "code",
   "execution_count": null,
   "metadata": {},
   "outputs": [],
   "source": [
    "# Sample bins. Feel free to create your own bins.\n",
    "size_bins = [0, 1000, 2000, 5000]\n",
    "group_names = [\"Small (<1000)\", \"Medium (1000-2000)\", \"Large (2000-5000)\"]"
   ]
  },
  {
   "cell_type": "code",
   "execution_count": 19,
   "metadata": {
    "scrolled": true
   },
   "outputs": [
    {
     "data": {
      "text/html": [
       "<div>\n",
       "<style scoped>\n",
       "    .dataframe tbody tr th:only-of-type {\n",
       "        vertical-align: middle;\n",
       "    }\n",
       "\n",
       "    .dataframe tbody tr th {\n",
       "        vertical-align: top;\n",
       "    }\n",
       "\n",
       "    .dataframe thead th {\n",
       "        text-align: right;\n",
       "    }\n",
       "</style>\n",
       "<table border=\"1\" class=\"dataframe\">\n",
       "  <thead>\n",
       "    <tr style=\"text-align: right;\">\n",
       "      <th></th>\n",
       "      <th>Average Math Score</th>\n",
       "      <th>Average Reading Score</th>\n",
       "      <th>% Passing Math</th>\n",
       "      <th>% Passing Reading</th>\n",
       "      <th>% Overall Passing Rate</th>\n",
       "    </tr>\n",
       "    <tr>\n",
       "      <th>School Size</th>\n",
       "      <th></th>\n",
       "      <th></th>\n",
       "      <th></th>\n",
       "      <th></th>\n",
       "      <th></th>\n",
       "    </tr>\n",
       "  </thead>\n",
       "  <tbody>\n",
       "    <tr>\n",
       "      <th>Small (&lt;1000)</th>\n",
       "      <td>83.821598</td>\n",
       "      <td>83.929843</td>\n",
       "      <td>93.550225</td>\n",
       "      <td>96.099437</td>\n",
       "      <td>94.824831</td>\n",
       "    </tr>\n",
       "    <tr>\n",
       "      <th>Medium (1000-2000)</th>\n",
       "      <td>83.374684</td>\n",
       "      <td>83.864438</td>\n",
       "      <td>93.599695</td>\n",
       "      <td>96.790680</td>\n",
       "      <td>95.195187</td>\n",
       "    </tr>\n",
       "    <tr>\n",
       "      <th>Large (2000-5000)</th>\n",
       "      <td>77.746417</td>\n",
       "      <td>81.344493</td>\n",
       "      <td>69.963361</td>\n",
       "      <td>82.766634</td>\n",
       "      <td>76.364998</td>\n",
       "    </tr>\n",
       "  </tbody>\n",
       "</table>\n",
       "</div>"
      ],
      "text/plain": [
       "                    Average Math Score  Average Reading Score  % Passing Math  \\\n",
       "School Size                                                                     \n",
       "Small (<1000)                83.821598              83.929843       93.550225   \n",
       "Medium (1000-2000)           83.374684              83.864438       93.599695   \n",
       "Large (2000-5000)            77.746417              81.344493       69.963361   \n",
       "\n",
       "                    % Passing Reading  % Overall Passing Rate  \n",
       "School Size                                                    \n",
       "Small (<1000)               96.099437               94.824831  \n",
       "Medium (1000-2000)          96.790680               95.195187  \n",
       "Large (2000-5000)           82.766634               76.364998  "
      ]
     },
     "execution_count": 19,
     "metadata": {},
     "output_type": "execute_result"
    }
   ],
   "source": [
    "# \n",
    "\n",
    "############################################################################\n"
   ]
  },
  {
   "cell_type": "markdown",
   "metadata": {},
   "source": [
    "## Scores by School Type"
   ]
  },
  {
   "cell_type": "markdown",
   "metadata": {},
   "source": [
    "* Perform the same operations as above, based on school type."
   ]
  },
  {
   "cell_type": "code",
   "execution_count": 20,
   "metadata": {},
   "outputs": [
    {
     "data": {
      "text/html": [
       "<div>\n",
       "<style scoped>\n",
       "    .dataframe tbody tr th:only-of-type {\n",
       "        vertical-align: middle;\n",
       "    }\n",
       "\n",
       "    .dataframe tbody tr th {\n",
       "        vertical-align: top;\n",
       "    }\n",
       "\n",
       "    .dataframe thead th {\n",
       "        text-align: right;\n",
       "    }\n",
       "</style>\n",
       "<table border=\"1\" class=\"dataframe\">\n",
       "  <thead>\n",
       "    <tr style=\"text-align: right;\">\n",
       "      <th></th>\n",
       "      <th>Average Math Score</th>\n",
       "      <th>Average Reading Score</th>\n",
       "      <th>% Passing Math</th>\n",
       "      <th>% Passing Reading</th>\n",
       "      <th>% Overall Passing Rate</th>\n",
       "    </tr>\n",
       "    <tr>\n",
       "      <th>School Type</th>\n",
       "      <th></th>\n",
       "      <th></th>\n",
       "      <th></th>\n",
       "      <th></th>\n",
       "      <th></th>\n",
       "    </tr>\n",
       "  </thead>\n",
       "  <tbody>\n",
       "    <tr>\n",
       "      <th>Charter</th>\n",
       "      <td>83.473852</td>\n",
       "      <td>83.896421</td>\n",
       "      <td>93.620830</td>\n",
       "      <td>96.586489</td>\n",
       "      <td>95.103660</td>\n",
       "    </tr>\n",
       "    <tr>\n",
       "      <th>District</th>\n",
       "      <td>76.956733</td>\n",
       "      <td>80.966636</td>\n",
       "      <td>66.548453</td>\n",
       "      <td>80.799062</td>\n",
       "      <td>73.673757</td>\n",
       "    </tr>\n",
       "  </tbody>\n",
       "</table>\n",
       "</div>"
      ],
      "text/plain": [
       "             Average Math Score  Average Reading Score  % Passing Math  \\\n",
       "School Type                                                              \n",
       "Charter               83.473852              83.896421       93.620830   \n",
       "District              76.956733              80.966636       66.548453   \n",
       "\n",
       "             % Passing Reading  % Overall Passing Rate  \n",
       "School Type                                             \n",
       "Charter              96.586489               95.103660  \n",
       "District             80.799062               73.673757  "
      ]
     },
     "execution_count": 20,
     "metadata": {},
     "output_type": "execute_result"
    }
   ],
   "source": [
    "# \n",
    "\n",
    "############################################################################\n"
   ]
  },
  {
   "cell_type": "code",
   "execution_count": null,
   "metadata": {},
   "outputs": [],
   "source": []
  }
 ],
 "metadata": {
  "anaconda-cloud": {},
  "kernel_info": {
   "name": "python3"
  },
  "kernelspec": {
   "display_name": "Python 3",
   "language": "python",
   "name": "python3"
  },
  "language_info": {
   "codemirror_mode": {
    "name": "ipython",
    "version": 3
   },
   "file_extension": ".py",
   "mimetype": "text/x-python",
   "name": "python",
   "nbconvert_exporter": "python",
   "pygments_lexer": "ipython3",
   "version": "3.7.4"
  },
  "latex_envs": {
   "LaTeX_envs_menu_present": true,
   "autoclose": false,
   "autocomplete": true,
   "bibliofile": "biblio.bib",
   "cite_by": "apalike",
   "current_citInitial": 1,
   "eqLabelWithNumbers": true,
   "eqNumInitial": 1,
   "hotkeys": {
    "equation": "Ctrl-E",
    "itemize": "Ctrl-I"
   },
   "labels_anchors": false,
   "latex_user_defs": false,
   "report_style_numbering": false,
   "user_envs_cfg": false
  },
  "nteract": {
   "version": "0.8.4"
  }
 },
 "nbformat": 4,
 "nbformat_minor": 1
}
