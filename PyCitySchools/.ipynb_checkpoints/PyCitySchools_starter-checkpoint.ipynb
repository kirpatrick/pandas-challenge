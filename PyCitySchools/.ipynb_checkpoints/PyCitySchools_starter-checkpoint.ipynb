{
 "cells": [
  {
   "cell_type": "markdown",
   "metadata": {},
   "source": [
    "### Note\n",
    "* Instructions have been included for each segment. You do not have to follow them exactly, but they are included to help you think through the steps."
   ]
  },
  {
   "cell_type": "code",
   "execution_count": 197,
   "metadata": {},
   "outputs": [
    {
     "data": {
      "text/plain": [
       "'English_United States.1252'"
      ]
     },
     "execution_count": 197,
     "metadata": {},
     "output_type": "execute_result"
    }
   ],
   "source": [
    "# Dependencies and Setup\n",
    "import pandas as pd\n",
    "import numpy as np\n",
    "# To use the mean function\n",
    "import statistics\n",
    "# To the currency conversion function\n",
    "import locale\n",
    "locale.setlocale( locale.LC_ALL, '' )\n",
    "'English_United States.1252'"
   ]
  },
  {
   "cell_type": "code",
   "execution_count": 198,
   "metadata": {},
   "outputs": [],
   "source": [
    "# File to Load\n",
    "school_data_to_load = \"./Resources/schools_complete.csv\"\n",
    "student_data_to_load = \"./Resources/students_complete.csv\""
   ]
  },
  {
   "cell_type": "code",
   "execution_count": 199,
   "metadata": {},
   "outputs": [],
   "source": [
    "# Read School and Student Data File and store into Pandas Data Frames\n",
    "school_data = pd.read_csv(school_data_to_load)\n",
    "student_data = pd.read_csv(student_data_to_load)"
   ]
  },
  {
   "cell_type": "code",
   "execution_count": 200,
   "metadata": {},
   "outputs": [],
   "source": [
    "# Combine the data into a single dataset\n",
    "school_data_complete = pd.merge(student_data, school_data, how=\"left\", on=[\"school_name\", \"school_name\"])\n",
    "# school_data_complete.head()"
   ]
  },
  {
   "cell_type": "markdown",
   "metadata": {},
   "source": [
    "## District Summary\n",
    "\n",
    "* Calculate the total number of schools\n",
    "\n",
    "* Calculate the total number of students\n",
    "\n",
    "* Calculate the total budget\n",
    "\n",
    "* Calculate the average math score \n",
    "\n",
    "* Calculate the average reading score\n",
    "\n",
    "* Calculate the overall passing rate (overall average score), i.e. (avg. math score + avg. reading score)/2\n",
    "\n",
    "* Calculate the percentage of students with a passing math score (70 or greater)\n",
    "\n",
    "* Calculate the percentage of students with a passing reading score (70 or greater)\n",
    "\n",
    "* Create a dataframe to hold the above results\n",
    "\n",
    "* Optional: give the displayed data cleaner formatting"
   ]
  },
  {
   "cell_type": "code",
   "execution_count": 201,
   "metadata": {},
   "outputs": [],
   "source": [
    "# Calculate the total number of schools\n",
    "total_schools = len(school_data_complete[\"school_name\"].unique())"
   ]
  },
  {
   "cell_type": "code",
   "execution_count": 202,
   "metadata": {},
   "outputs": [],
   "source": [
    "# Calculate the total number of students\n",
    "total_students = len(school_data_complete[\"Student ID\"].unique())"
   ]
  },
  {
   "cell_type": "code",
   "execution_count": 203,
   "metadata": {},
   "outputs": [],
   "source": [
    "# Calculate the total budget\n",
    "total_budget = sum(school_data_complete[\"budget\"].unique())"
   ]
  },
  {
   "cell_type": "code",
   "execution_count": 204,
   "metadata": {},
   "outputs": [],
   "source": [
    "# Calculate the average math score\n",
    "avg_math_score = statistics.mean(school_data_complete[\"math_score\"])"
   ]
  },
  {
   "cell_type": "code",
   "execution_count": 205,
   "metadata": {},
   "outputs": [],
   "source": [
    "# Calculate the average reading score\n",
    "avg_reading_score = statistics.mean(school_data_complete[\"reading_score\"])"
   ]
  },
  {
   "cell_type": "code",
   "execution_count": 206,
   "metadata": {},
   "outputs": [],
   "source": [
    "# Calculate the overall passing rate (overall average score), i.e. (avg. math score + avg. reading score)/2\n",
    "percent_overall_avg = (avg_math_score + avg_reading_score) / 2"
   ]
  },
  {
   "cell_type": "code",
   "execution_count": 207,
   "metadata": {},
   "outputs": [],
   "source": [
    "# Calculate the percentage of students with a passing math score (70 or greater)\n",
    "\n",
    "# Calculate the total with a math score 70 or greater\n",
    "total_passing_math = len(school_data_complete[\"Student ID\"].unique()[school_data_complete[\"math_score\"] >= 70])\n",
    "\n",
    "# Divide the total passing by the total number of students.  Multiply total by 100 to format per column header\n",
    "percent_passing_math = (total_passing_math/total_students) * 100"
   ]
  },
  {
   "cell_type": "code",
   "execution_count": 208,
   "metadata": {},
   "outputs": [],
   "source": [
    "# Calculate the percentage of students with a passing reading score (70 or greater)\n",
    "\n",
    "# Calculate the total with a reading score 70 or greater\n",
    "total_passing_reading = len(school_data_complete[\"Student ID\"].unique()[school_data_complete[\"reading_score\"] >= 70])\n",
    "\n",
    "# Divide the total passing by the total number of students.  Multiply total by 100 to format per column header\n",
    "percent_passing_reading = (total_passing_reading/total_students) * 100"
   ]
  },
  {
   "cell_type": "code",
   "execution_count": 209,
   "metadata": {},
   "outputs": [],
   "source": [
    "# Create a dataframe to hold the above results\n",
    "district_summary_data = pd.DataFrame({\n",
    "    \"Total Schools\":[total_schools],\n",
    "    \n",
    "    # Format total_students; include commas\n",
    "    \"Total Students\":[f\"{total_students:,}\"],\n",
    "    \n",
    "    # Format total_budget; print US dollar format with commas\n",
    "    \"Total Budget\":[locale.currency(total_budget, grouping=True)],\n",
    "    \n",
    "    \"Average Math Score\":[avg_math_score],\n",
    "    \"Average Reading Score\":[avg_reading_score],\n",
    "    \"% Passing Math\":[percent_passing_math],\n",
    "    \"% Passing Reading\":[percent_passing_reading],\n",
    "    \"% Overall Passing Rate\":[percent_overall_avg]\n",
    "})"
   ]
  },
  {
   "cell_type": "code",
   "execution_count": 210,
   "metadata": {},
   "outputs": [
    {
     "data": {
      "text/html": [
       "<div>\n",
       "<style scoped>\n",
       "    .dataframe tbody tr th:only-of-type {\n",
       "        vertical-align: middle;\n",
       "    }\n",
       "\n",
       "    .dataframe tbody tr th {\n",
       "        vertical-align: top;\n",
       "    }\n",
       "\n",
       "    .dataframe thead th {\n",
       "        text-align: right;\n",
       "    }\n",
       "</style>\n",
       "<table border=\"1\" class=\"dataframe\">\n",
       "  <thead>\n",
       "    <tr style=\"text-align: right;\">\n",
       "      <th></th>\n",
       "      <th>Total Schools</th>\n",
       "      <th>Total Students</th>\n",
       "      <th>Total Budget</th>\n",
       "      <th>Average Math Score</th>\n",
       "      <th>Average Reading Score</th>\n",
       "      <th>% Passing Math</th>\n",
       "      <th>% Passing Reading</th>\n",
       "      <th>% Overall Passing Rate</th>\n",
       "    </tr>\n",
       "  </thead>\n",
       "  <tbody>\n",
       "    <tr>\n",
       "      <td>0</td>\n",
       "      <td>15</td>\n",
       "      <td>39,170</td>\n",
       "      <td>$24,649,428.00</td>\n",
       "      <td>78.985371</td>\n",
       "      <td>81.87784</td>\n",
       "      <td>74.980853</td>\n",
       "      <td>85.805463</td>\n",
       "      <td>80.431606</td>\n",
       "    </tr>\n",
       "  </tbody>\n",
       "</table>\n",
       "</div>"
      ],
      "text/plain": [
       "   Total Schools Total Students    Total Budget  Average Math Score  \\\n",
       "0             15         39,170  $24,649,428.00           78.985371   \n",
       "\n",
       "   Average Reading Score  % Passing Math  % Passing Reading  \\\n",
       "0               81.87784       74.980853          85.805463   \n",
       "\n",
       "   % Overall Passing Rate  \n",
       "0               80.431606  "
      ]
     },
     "execution_count": 210,
     "metadata": {},
     "output_type": "execute_result"
    }
   ],
   "source": [
    "# Display District Summary\n",
    "district_summary_data"
   ]
  },
  {
   "cell_type": "markdown",
   "metadata": {},
   "source": [
    "## School Summary"
   ]
  },
  {
   "cell_type": "markdown",
   "metadata": {},
   "source": [
    "* Create an overview table that summarizes key metrics about each school, including:\n",
    "  * School Name\n",
    "  * School Type\n",
    "  * Total Students\n",
    "  * Total School Budget\n",
    "  * Per Student Budget\n",
    "  * Average Math Score\n",
    "  * Average Reading Score\n",
    "  * % Passing Math\n",
    "  * % Passing Reading\n",
    "  * Overall Passing Rate (Average of the above two)\n",
    "  \n",
    "* Create a dataframe to hold the above results"
   ]
  },
  {
   "cell_type": "markdown",
   "metadata": {},
   "source": [
    "## Top Performing Schools (By Passing Rate)"
   ]
  },
  {
   "cell_type": "markdown",
   "metadata": {},
   "source": [
    "* Sort and display the top five schools in overall passing rate"
   ]
  },
  {
   "cell_type": "code",
   "execution_count": 211,
   "metadata": {},
   "outputs": [],
   "source": [
    "# Using GroupBy in order to separate the data into fields according to \"school_name\" values\n",
    "#school_performance_data = pd.DataFrame(school_data_complete.groupby([\"school_name\"]))\n",
    "school_performance_data = school_data_complete.groupby([\"school_name\",\"type\"])\n",
    "\n",
    "############################################################################\n",
    "#school_performance_data[[\"school_name\",\"budget\"]].mean().head(15).style.hide_index()\n",
    "#school_performance_data.head()\n",
    "#school_data_complete\n",
    "# FYI (Validation) In order to be visualized, a data function must be used...\n",
    "# Record count per school\n",
    "# school_performance_data.size()\n",
    "\n"
   ]
  },
  {
   "cell_type": "code",
   "execution_count": 212,
   "metadata": {},
   "outputs": [],
   "source": [
    "# Calculate the total number of students\n",
    "total_students_by_school = school_performance_data[\"Student ID\"].count()\n",
    "#############################################################################\n",
    "#pd.to_numeric(total_students_by_school).head(15)\n",
    "#total_students_by_school.head(15)"
   ]
  },
  {
   "cell_type": "code",
   "execution_count": 213,
   "metadata": {},
   "outputs": [
    {
     "data": {
      "text/plain": [
       "school_name           type    \n",
       "Bailey High School    District    3124928\n",
       "Cabrera High School   Charter     1081356\n",
       "Figueroa High School  District    1884411\n",
       "Ford High School      District    1763916\n",
       "Griffin High School   Charter      917500\n",
       "Name: budget, dtype: int64"
      ]
     },
     "execution_count": 213,
     "metadata": {},
     "output_type": "execute_result"
    }
   ],
   "source": [
    "# Calculate the total budget\n",
    "total_budget_by_school = school_performance_data[\"budget\"].mean()\n",
    "#total_budget_by_school = school_performance_data[\"budget\"].apply(float)\n",
    "#total_budget_by_school = total_budget_by_school.apply(float)\n",
    "############################################################################\n",
    "#total_budget_by_school.head(15)\n",
    "pd.to_numeric(total_budget_by_school).head()"
   ]
  },
  {
   "cell_type": "code",
   "execution_count": 214,
   "metadata": {},
   "outputs": [],
   "source": [
    "# Per Student Budget\n",
    "total_budget_by_student = (total_budget_by_school / total_students_by_school)\n",
    "############################################################################\n",
    "#total_budget_by_student.head(15)"
   ]
  },
  {
   "cell_type": "code",
   "execution_count": 215,
   "metadata": {},
   "outputs": [],
   "source": [
    "# Average Math Score\n",
    "avg_math_score_by_school = school_performance_data[\"math_score\"].mean()\n",
    "############################################################################\n",
    "#avg_math_score_by_school.head(15)"
   ]
  },
  {
   "cell_type": "code",
   "execution_count": 216,
   "metadata": {},
   "outputs": [],
   "source": [
    "# Average Reading Score\n",
    "avg_reading_score_by_school = school_performance_data[\"reading_score\"].mean()\n",
    "############################################################################\n",
    "#avg_reading_score_by_school.head(15)"
   ]
  },
  {
   "cell_type": "code",
   "execution_count": 217,
   "metadata": {},
   "outputs": [],
   "source": [
    "# Caculate total passing math by school\n",
    "total_passing_math_by_school = school_data_complete[school_data_complete[\"math_score\"] >= 70].groupby(\"school_name\")[\"math_score\"].count()\n",
    "\n",
    "# % Passing Math - students passing / total students\n",
    "percent_math_score_by_school = (total_passing_math_by_school / total_students_by_school)\n",
    "############################################################################\n",
    "#percent_math_score_by_school.head(15)"
   ]
  },
  {
   "cell_type": "code",
   "execution_count": 218,
   "metadata": {},
   "outputs": [],
   "source": [
    "# Caculate total passing reading by school\n",
    "total_passing_reading_by_school = school_data_complete[school_data_complete[\"reading_score\"] >= 70].groupby(\"school_name\")[\"reading_score\"].count()\n",
    "\n",
    "# % Passing Reading - students passing / total students\n",
    "percent_reading_score_by_school = (total_passing_reading_by_school / total_students_by_school)\n",
    "############################################################################\n",
    "# percent_reading_score_by_school.head(15)"
   ]
  },
  {
   "cell_type": "code",
   "execution_count": 277,
   "metadata": {},
   "outputs": [],
   "source": [
    "# Overall Passing Rate (Average of the above two)\n",
    "percent_overall_avg_by_school = (percent_math_score_by_school + percent_reading_score_by_school) / 2\n",
    "############################################################################\n",
    "#percent_overall_avg_by_school.head(15)"
   ]
  },
  {
   "cell_type": "code",
   "execution_count": 279,
   "metadata": {
    "scrolled": false
   },
   "outputs": [],
   "source": [
    "performance_data_summary = pd.DataFrame({\n",
    "    'Total Students':total_students_by_school,\n",
    "    'Total School Budget':total_budget_by_school.map('${:,.2f}'.format),\n",
    "    'Per Student Budget':total_budget_by_student.map('${:,.2f}'.format),\n",
    "    'Average Math Score':avg_math_score_by_school,\n",
    "    'Average Reading Score':avg_reading_score_by_school,\n",
    "    '% Passing Math':percent_math_score_by_school*100,\n",
    "    '% Passing Reading':percent_reading_score_by_school*100,\n",
    "    '% Overall Passing Rate':percent_overall_avg_by_school*100\n",
    "}).reset_index()"
   ]
  },
  {
   "cell_type": "code",
   "execution_count": 280,
   "metadata": {},
   "outputs": [],
   "source": [
    "clean_school_perf_summary = performance_data_summary.rename(columns={'school_name':'School Name','type':'School Type'})"
   ]
  },
  {
   "cell_type": "code",
   "execution_count": 282,
   "metadata": {
    "scrolled": true
   },
   "outputs": [
    {
     "data": {
      "text/html": [
       "<style  type=\"text/css\" >\n",
       "</style><table id=\"T_c086532e_3405_11ea_b59a_f894c285f73b\" ><thead>    <tr>        <th class=\"col_heading level0 col0\" >School Name</th>        <th class=\"col_heading level0 col1\" >School Type</th>        <th class=\"col_heading level0 col2\" >Total Students</th>        <th class=\"col_heading level0 col3\" >Total School Budget</th>        <th class=\"col_heading level0 col4\" >Per Student Budget</th>        <th class=\"col_heading level0 col5\" >Average Math Score</th>        <th class=\"col_heading level0 col6\" >Average Reading Score</th>        <th class=\"col_heading level0 col7\" >% Passing Math</th>        <th class=\"col_heading level0 col8\" >% Passing Reading</th>        <th class=\"col_heading level0 col9\" >% Overall Passing Rate</th>    </tr></thead><tbody>\n",
       "                <tr>\n",
       "                                <td id=\"T_c086532e_3405_11ea_b59a_f894c285f73brow0_col0\" class=\"data row0 col0\" >Cabrera High School</td>\n",
       "                        <td id=\"T_c086532e_3405_11ea_b59a_f894c285f73brow0_col1\" class=\"data row0 col1\" >Charter</td>\n",
       "                        <td id=\"T_c086532e_3405_11ea_b59a_f894c285f73brow0_col2\" class=\"data row0 col2\" >1858</td>\n",
       "                        <td id=\"T_c086532e_3405_11ea_b59a_f894c285f73brow0_col3\" class=\"data row0 col3\" >$1,081,356.00</td>\n",
       "                        <td id=\"T_c086532e_3405_11ea_b59a_f894c285f73brow0_col4\" class=\"data row0 col4\" >$582.00</td>\n",
       "                        <td id=\"T_c086532e_3405_11ea_b59a_f894c285f73brow0_col5\" class=\"data row0 col5\" >83.0619</td>\n",
       "                        <td id=\"T_c086532e_3405_11ea_b59a_f894c285f73brow0_col6\" class=\"data row0 col6\" >83.9758</td>\n",
       "                        <td id=\"T_c086532e_3405_11ea_b59a_f894c285f73brow0_col7\" class=\"data row0 col7\" >94.1335</td>\n",
       "                        <td id=\"T_c086532e_3405_11ea_b59a_f894c285f73brow0_col8\" class=\"data row0 col8\" >97.0398</td>\n",
       "                        <td id=\"T_c086532e_3405_11ea_b59a_f894c285f73brow0_col9\" class=\"data row0 col9\" >95.5867</td>\n",
       "            </tr>\n",
       "            <tr>\n",
       "                                <td id=\"T_c086532e_3405_11ea_b59a_f894c285f73brow1_col0\" class=\"data row1 col0\" >Thomas High School</td>\n",
       "                        <td id=\"T_c086532e_3405_11ea_b59a_f894c285f73brow1_col1\" class=\"data row1 col1\" >Charter</td>\n",
       "                        <td id=\"T_c086532e_3405_11ea_b59a_f894c285f73brow1_col2\" class=\"data row1 col2\" >1635</td>\n",
       "                        <td id=\"T_c086532e_3405_11ea_b59a_f894c285f73brow1_col3\" class=\"data row1 col3\" >$1,043,130.00</td>\n",
       "                        <td id=\"T_c086532e_3405_11ea_b59a_f894c285f73brow1_col4\" class=\"data row1 col4\" >$638.00</td>\n",
       "                        <td id=\"T_c086532e_3405_11ea_b59a_f894c285f73brow1_col5\" class=\"data row1 col5\" >83.4183</td>\n",
       "                        <td id=\"T_c086532e_3405_11ea_b59a_f894c285f73brow1_col6\" class=\"data row1 col6\" >83.8489</td>\n",
       "                        <td id=\"T_c086532e_3405_11ea_b59a_f894c285f73brow1_col7\" class=\"data row1 col7\" >93.2722</td>\n",
       "                        <td id=\"T_c086532e_3405_11ea_b59a_f894c285f73brow1_col8\" class=\"data row1 col8\" >97.3089</td>\n",
       "                        <td id=\"T_c086532e_3405_11ea_b59a_f894c285f73brow1_col9\" class=\"data row1 col9\" >95.2905</td>\n",
       "            </tr>\n",
       "            <tr>\n",
       "                                <td id=\"T_c086532e_3405_11ea_b59a_f894c285f73brow2_col0\" class=\"data row2 col0\" >Pena High School</td>\n",
       "                        <td id=\"T_c086532e_3405_11ea_b59a_f894c285f73brow2_col1\" class=\"data row2 col1\" >Charter</td>\n",
       "                        <td id=\"T_c086532e_3405_11ea_b59a_f894c285f73brow2_col2\" class=\"data row2 col2\" >962</td>\n",
       "                        <td id=\"T_c086532e_3405_11ea_b59a_f894c285f73brow2_col3\" class=\"data row2 col3\" >$585,858.00</td>\n",
       "                        <td id=\"T_c086532e_3405_11ea_b59a_f894c285f73brow2_col4\" class=\"data row2 col4\" >$609.00</td>\n",
       "                        <td id=\"T_c086532e_3405_11ea_b59a_f894c285f73brow2_col5\" class=\"data row2 col5\" >83.8399</td>\n",
       "                        <td id=\"T_c086532e_3405_11ea_b59a_f894c285f73brow2_col6\" class=\"data row2 col6\" >84.0447</td>\n",
       "                        <td id=\"T_c086532e_3405_11ea_b59a_f894c285f73brow2_col7\" class=\"data row2 col7\" >94.5946</td>\n",
       "                        <td id=\"T_c086532e_3405_11ea_b59a_f894c285f73brow2_col8\" class=\"data row2 col8\" >95.9459</td>\n",
       "                        <td id=\"T_c086532e_3405_11ea_b59a_f894c285f73brow2_col9\" class=\"data row2 col9\" >95.2703</td>\n",
       "            </tr>\n",
       "            <tr>\n",
       "                                <td id=\"T_c086532e_3405_11ea_b59a_f894c285f73brow3_col0\" class=\"data row3 col0\" >Griffin High School</td>\n",
       "                        <td id=\"T_c086532e_3405_11ea_b59a_f894c285f73brow3_col1\" class=\"data row3 col1\" >Charter</td>\n",
       "                        <td id=\"T_c086532e_3405_11ea_b59a_f894c285f73brow3_col2\" class=\"data row3 col2\" >1468</td>\n",
       "                        <td id=\"T_c086532e_3405_11ea_b59a_f894c285f73brow3_col3\" class=\"data row3 col3\" >$917,500.00</td>\n",
       "                        <td id=\"T_c086532e_3405_11ea_b59a_f894c285f73brow3_col4\" class=\"data row3 col4\" >$625.00</td>\n",
       "                        <td id=\"T_c086532e_3405_11ea_b59a_f894c285f73brow3_col5\" class=\"data row3 col5\" >83.3515</td>\n",
       "                        <td id=\"T_c086532e_3405_11ea_b59a_f894c285f73brow3_col6\" class=\"data row3 col6\" >83.8168</td>\n",
       "                        <td id=\"T_c086532e_3405_11ea_b59a_f894c285f73brow3_col7\" class=\"data row3 col7\" >93.3924</td>\n",
       "                        <td id=\"T_c086532e_3405_11ea_b59a_f894c285f73brow3_col8\" class=\"data row3 col8\" >97.139</td>\n",
       "                        <td id=\"T_c086532e_3405_11ea_b59a_f894c285f73brow3_col9\" class=\"data row3 col9\" >95.2657</td>\n",
       "            </tr>\n",
       "            <tr>\n",
       "                                <td id=\"T_c086532e_3405_11ea_b59a_f894c285f73brow4_col0\" class=\"data row4 col0\" >Wilson High School</td>\n",
       "                        <td id=\"T_c086532e_3405_11ea_b59a_f894c285f73brow4_col1\" class=\"data row4 col1\" >Charter</td>\n",
       "                        <td id=\"T_c086532e_3405_11ea_b59a_f894c285f73brow4_col2\" class=\"data row4 col2\" >2283</td>\n",
       "                        <td id=\"T_c086532e_3405_11ea_b59a_f894c285f73brow4_col3\" class=\"data row4 col3\" >$1,319,574.00</td>\n",
       "                        <td id=\"T_c086532e_3405_11ea_b59a_f894c285f73brow4_col4\" class=\"data row4 col4\" >$578.00</td>\n",
       "                        <td id=\"T_c086532e_3405_11ea_b59a_f894c285f73brow4_col5\" class=\"data row4 col5\" >83.2742</td>\n",
       "                        <td id=\"T_c086532e_3405_11ea_b59a_f894c285f73brow4_col6\" class=\"data row4 col6\" >83.9895</td>\n",
       "                        <td id=\"T_c086532e_3405_11ea_b59a_f894c285f73brow4_col7\" class=\"data row4 col7\" >93.8677</td>\n",
       "                        <td id=\"T_c086532e_3405_11ea_b59a_f894c285f73brow4_col8\" class=\"data row4 col8\" >96.5396</td>\n",
       "                        <td id=\"T_c086532e_3405_11ea_b59a_f894c285f73brow4_col9\" class=\"data row4 col9\" >95.2037</td>\n",
       "            </tr>\n",
       "    </tbody></table>"
      ],
      "text/plain": [
       "<pandas.io.formats.style.Styler at 0x1c70670cd88>"
      ]
     },
     "execution_count": 282,
     "metadata": {},
     "output_type": "execute_result"
    }
   ],
   "source": [
    "clean_school_perf_summary.sort_values(by=['% Overall Passing Rate'], ascending=False).head(5).style.hide_index()"
   ]
  },
  {
   "cell_type": "markdown",
   "metadata": {},
   "source": [
    "## Bottom Performing Schools (By Passing Rate)"
   ]
  },
  {
   "cell_type": "markdown",
   "metadata": {},
   "source": [
    "* Sort and display the five worst-performing schools"
   ]
  },
  {
   "cell_type": "code",
   "execution_count": 284,
   "metadata": {},
   "outputs": [
    {
     "data": {
      "text/html": [
       "<style  type=\"text/css\" >\n",
       "</style><table id=\"T_eae17ff6_3405_11ea_a41e_f894c285f73b\" ><thead>    <tr>        <th class=\"col_heading level0 col0\" >School Name</th>        <th class=\"col_heading level0 col1\" >School Type</th>        <th class=\"col_heading level0 col2\" >Total Students</th>        <th class=\"col_heading level0 col3\" >Total School Budget</th>        <th class=\"col_heading level0 col4\" >Per Student Budget</th>        <th class=\"col_heading level0 col5\" >Average Math Score</th>        <th class=\"col_heading level0 col6\" >Average Reading Score</th>        <th class=\"col_heading level0 col7\" >% Passing Math</th>        <th class=\"col_heading level0 col8\" >% Passing Reading</th>        <th class=\"col_heading level0 col9\" >% Overall Passing Rate</th>    </tr></thead><tbody>\n",
       "                <tr>\n",
       "                                <td id=\"T_eae17ff6_3405_11ea_a41e_f894c285f73brow0_col0\" class=\"data row0 col0\" >Rodriguez High School</td>\n",
       "                        <td id=\"T_eae17ff6_3405_11ea_a41e_f894c285f73brow0_col1\" class=\"data row0 col1\" >District</td>\n",
       "                        <td id=\"T_eae17ff6_3405_11ea_a41e_f894c285f73brow0_col2\" class=\"data row0 col2\" >3999</td>\n",
       "                        <td id=\"T_eae17ff6_3405_11ea_a41e_f894c285f73brow0_col3\" class=\"data row0 col3\" >$2,547,363.00</td>\n",
       "                        <td id=\"T_eae17ff6_3405_11ea_a41e_f894c285f73brow0_col4\" class=\"data row0 col4\" >$637.00</td>\n",
       "                        <td id=\"T_eae17ff6_3405_11ea_a41e_f894c285f73brow0_col5\" class=\"data row0 col5\" >76.8427</td>\n",
       "                        <td id=\"T_eae17ff6_3405_11ea_a41e_f894c285f73brow0_col6\" class=\"data row0 col6\" >80.7447</td>\n",
       "                        <td id=\"T_eae17ff6_3405_11ea_a41e_f894c285f73brow0_col7\" class=\"data row0 col7\" >66.3666</td>\n",
       "                        <td id=\"T_eae17ff6_3405_11ea_a41e_f894c285f73brow0_col8\" class=\"data row0 col8\" >80.2201</td>\n",
       "                        <td id=\"T_eae17ff6_3405_11ea_a41e_f894c285f73brow0_col9\" class=\"data row0 col9\" >73.2933</td>\n",
       "            </tr>\n",
       "            <tr>\n",
       "                                <td id=\"T_eae17ff6_3405_11ea_a41e_f894c285f73brow1_col0\" class=\"data row1 col0\" >Figueroa High School</td>\n",
       "                        <td id=\"T_eae17ff6_3405_11ea_a41e_f894c285f73brow1_col1\" class=\"data row1 col1\" >District</td>\n",
       "                        <td id=\"T_eae17ff6_3405_11ea_a41e_f894c285f73brow1_col2\" class=\"data row1 col2\" >2949</td>\n",
       "                        <td id=\"T_eae17ff6_3405_11ea_a41e_f894c285f73brow1_col3\" class=\"data row1 col3\" >$1,884,411.00</td>\n",
       "                        <td id=\"T_eae17ff6_3405_11ea_a41e_f894c285f73brow1_col4\" class=\"data row1 col4\" >$639.00</td>\n",
       "                        <td id=\"T_eae17ff6_3405_11ea_a41e_f894c285f73brow1_col5\" class=\"data row1 col5\" >76.7118</td>\n",
       "                        <td id=\"T_eae17ff6_3405_11ea_a41e_f894c285f73brow1_col6\" class=\"data row1 col6\" >81.158</td>\n",
       "                        <td id=\"T_eae17ff6_3405_11ea_a41e_f894c285f73brow1_col7\" class=\"data row1 col7\" >65.9885</td>\n",
       "                        <td id=\"T_eae17ff6_3405_11ea_a41e_f894c285f73brow1_col8\" class=\"data row1 col8\" >80.7392</td>\n",
       "                        <td id=\"T_eae17ff6_3405_11ea_a41e_f894c285f73brow1_col9\" class=\"data row1 col9\" >73.3639</td>\n",
       "            </tr>\n",
       "            <tr>\n",
       "                                <td id=\"T_eae17ff6_3405_11ea_a41e_f894c285f73brow2_col0\" class=\"data row2 col0\" >Huang High School</td>\n",
       "                        <td id=\"T_eae17ff6_3405_11ea_a41e_f894c285f73brow2_col1\" class=\"data row2 col1\" >District</td>\n",
       "                        <td id=\"T_eae17ff6_3405_11ea_a41e_f894c285f73brow2_col2\" class=\"data row2 col2\" >2917</td>\n",
       "                        <td id=\"T_eae17ff6_3405_11ea_a41e_f894c285f73brow2_col3\" class=\"data row2 col3\" >$1,910,635.00</td>\n",
       "                        <td id=\"T_eae17ff6_3405_11ea_a41e_f894c285f73brow2_col4\" class=\"data row2 col4\" >$655.00</td>\n",
       "                        <td id=\"T_eae17ff6_3405_11ea_a41e_f894c285f73brow2_col5\" class=\"data row2 col5\" >76.6294</td>\n",
       "                        <td id=\"T_eae17ff6_3405_11ea_a41e_f894c285f73brow2_col6\" class=\"data row2 col6\" >81.1827</td>\n",
       "                        <td id=\"T_eae17ff6_3405_11ea_a41e_f894c285f73brow2_col7\" class=\"data row2 col7\" >65.6839</td>\n",
       "                        <td id=\"T_eae17ff6_3405_11ea_a41e_f894c285f73brow2_col8\" class=\"data row2 col8\" >81.3164</td>\n",
       "                        <td id=\"T_eae17ff6_3405_11ea_a41e_f894c285f73brow2_col9\" class=\"data row2 col9\" >73.5002</td>\n",
       "            </tr>\n",
       "            <tr>\n",
       "                                <td id=\"T_eae17ff6_3405_11ea_a41e_f894c285f73brow3_col0\" class=\"data row3 col0\" >Johnson High School</td>\n",
       "                        <td id=\"T_eae17ff6_3405_11ea_a41e_f894c285f73brow3_col1\" class=\"data row3 col1\" >District</td>\n",
       "                        <td id=\"T_eae17ff6_3405_11ea_a41e_f894c285f73brow3_col2\" class=\"data row3 col2\" >4761</td>\n",
       "                        <td id=\"T_eae17ff6_3405_11ea_a41e_f894c285f73brow3_col3\" class=\"data row3 col3\" >$3,094,650.00</td>\n",
       "                        <td id=\"T_eae17ff6_3405_11ea_a41e_f894c285f73brow3_col4\" class=\"data row3 col4\" >$650.00</td>\n",
       "                        <td id=\"T_eae17ff6_3405_11ea_a41e_f894c285f73brow3_col5\" class=\"data row3 col5\" >77.0725</td>\n",
       "                        <td id=\"T_eae17ff6_3405_11ea_a41e_f894c285f73brow3_col6\" class=\"data row3 col6\" >80.9664</td>\n",
       "                        <td id=\"T_eae17ff6_3405_11ea_a41e_f894c285f73brow3_col7\" class=\"data row3 col7\" >66.0576</td>\n",
       "                        <td id=\"T_eae17ff6_3405_11ea_a41e_f894c285f73brow3_col8\" class=\"data row3 col8\" >81.2224</td>\n",
       "                        <td id=\"T_eae17ff6_3405_11ea_a41e_f894c285f73brow3_col9\" class=\"data row3 col9\" >73.64</td>\n",
       "            </tr>\n",
       "            <tr>\n",
       "                                <td id=\"T_eae17ff6_3405_11ea_a41e_f894c285f73brow4_col0\" class=\"data row4 col0\" >Ford High School</td>\n",
       "                        <td id=\"T_eae17ff6_3405_11ea_a41e_f894c285f73brow4_col1\" class=\"data row4 col1\" >District</td>\n",
       "                        <td id=\"T_eae17ff6_3405_11ea_a41e_f894c285f73brow4_col2\" class=\"data row4 col2\" >2739</td>\n",
       "                        <td id=\"T_eae17ff6_3405_11ea_a41e_f894c285f73brow4_col3\" class=\"data row4 col3\" >$1,763,916.00</td>\n",
       "                        <td id=\"T_eae17ff6_3405_11ea_a41e_f894c285f73brow4_col4\" class=\"data row4 col4\" >$644.00</td>\n",
       "                        <td id=\"T_eae17ff6_3405_11ea_a41e_f894c285f73brow4_col5\" class=\"data row4 col5\" >77.1026</td>\n",
       "                        <td id=\"T_eae17ff6_3405_11ea_a41e_f894c285f73brow4_col6\" class=\"data row4 col6\" >80.7463</td>\n",
       "                        <td id=\"T_eae17ff6_3405_11ea_a41e_f894c285f73brow4_col7\" class=\"data row4 col7\" >68.3096</td>\n",
       "                        <td id=\"T_eae17ff6_3405_11ea_a41e_f894c285f73brow4_col8\" class=\"data row4 col8\" >79.299</td>\n",
       "                        <td id=\"T_eae17ff6_3405_11ea_a41e_f894c285f73brow4_col9\" class=\"data row4 col9\" >73.8043</td>\n",
       "            </tr>\n",
       "    </tbody></table>"
      ],
      "text/plain": [
       "<pandas.io.formats.style.Styler at 0x1c7067136c8>"
      ]
     },
     "execution_count": 284,
     "metadata": {},
     "output_type": "execute_result"
    }
   ],
   "source": [
    "clean_school_perf_summary.sort_values(by=['% Overall Passing Rate'], ascending=True).head(5).style.hide_index()"
   ]
  },
  {
   "cell_type": "code",
   "execution_count": 16,
   "metadata": {},
   "outputs": [],
   "source": [
    "# \n",
    "\n",
    "############################################################################\n"
   ]
  },
  {
   "cell_type": "markdown",
   "metadata": {
    "collapsed": true
   },
   "source": [
    "## Math Scores by Grade"
   ]
  },
  {
   "cell_type": "markdown",
   "metadata": {},
   "source": [
    "* Create a table that lists the average Reading Score for students of each grade level (9th, 10th, 11th, 12th) at each school.\n",
    "\n",
    "  * Create a pandas series for each grade. Hint: use a conditional statement.\n",
    "  \n",
    "  * Group each series by school\n",
    "  \n",
    "  * Combine the series into a dataframe\n",
    "  \n",
    "  * Optional: give the displayed data cleaner formatting"
   ]
  },
  {
   "cell_type": "code",
   "execution_count": 15,
   "metadata": {},
   "outputs": [
    {
     "data": {
      "text/html": [
       "<div>\n",
       "<style scoped>\n",
       "    .dataframe tbody tr th:only-of-type {\n",
       "        vertical-align: middle;\n",
       "    }\n",
       "\n",
       "    .dataframe tbody tr th {\n",
       "        vertical-align: top;\n",
       "    }\n",
       "\n",
       "    .dataframe thead th {\n",
       "        text-align: right;\n",
       "    }\n",
       "</style>\n",
       "<table border=\"1\" class=\"dataframe\">\n",
       "  <thead>\n",
       "    <tr style=\"text-align: right;\">\n",
       "      <th></th>\n",
       "      <th>9th</th>\n",
       "      <th>10th</th>\n",
       "      <th>11th</th>\n",
       "      <th>12th</th>\n",
       "    </tr>\n",
       "  </thead>\n",
       "  <tbody>\n",
       "    <tr>\n",
       "      <th>Bailey High School</th>\n",
       "      <td>77.083676</td>\n",
       "      <td>76.996772</td>\n",
       "      <td>77.515588</td>\n",
       "      <td>76.492218</td>\n",
       "    </tr>\n",
       "    <tr>\n",
       "      <th>Cabrera High School</th>\n",
       "      <td>83.094697</td>\n",
       "      <td>83.154506</td>\n",
       "      <td>82.765560</td>\n",
       "      <td>83.277487</td>\n",
       "    </tr>\n",
       "    <tr>\n",
       "      <th>Figueroa High School</th>\n",
       "      <td>76.403037</td>\n",
       "      <td>76.539974</td>\n",
       "      <td>76.884344</td>\n",
       "      <td>77.151369</td>\n",
       "    </tr>\n",
       "    <tr>\n",
       "      <th>Ford High School</th>\n",
       "      <td>77.361345</td>\n",
       "      <td>77.672316</td>\n",
       "      <td>76.918058</td>\n",
       "      <td>76.179963</td>\n",
       "    </tr>\n",
       "    <tr>\n",
       "      <th>Griffin High School</th>\n",
       "      <td>82.044010</td>\n",
       "      <td>84.229064</td>\n",
       "      <td>83.842105</td>\n",
       "      <td>83.356164</td>\n",
       "    </tr>\n",
       "    <tr>\n",
       "      <th>Hernandez High School</th>\n",
       "      <td>77.438495</td>\n",
       "      <td>77.337408</td>\n",
       "      <td>77.136029</td>\n",
       "      <td>77.186567</td>\n",
       "    </tr>\n",
       "    <tr>\n",
       "      <th>Holden High School</th>\n",
       "      <td>83.787402</td>\n",
       "      <td>83.429825</td>\n",
       "      <td>85.000000</td>\n",
       "      <td>82.855422</td>\n",
       "    </tr>\n",
       "    <tr>\n",
       "      <th>Huang High School</th>\n",
       "      <td>77.027251</td>\n",
       "      <td>75.908735</td>\n",
       "      <td>76.446602</td>\n",
       "      <td>77.225641</td>\n",
       "    </tr>\n",
       "    <tr>\n",
       "      <th>Johnson High School</th>\n",
       "      <td>77.187857</td>\n",
       "      <td>76.691117</td>\n",
       "      <td>77.491653</td>\n",
       "      <td>76.863248</td>\n",
       "    </tr>\n",
       "    <tr>\n",
       "      <th>Pena High School</th>\n",
       "      <td>83.625455</td>\n",
       "      <td>83.372000</td>\n",
       "      <td>84.328125</td>\n",
       "      <td>84.121547</td>\n",
       "    </tr>\n",
       "    <tr>\n",
       "      <th>Rodriguez High School</th>\n",
       "      <td>76.859966</td>\n",
       "      <td>76.612500</td>\n",
       "      <td>76.395626</td>\n",
       "      <td>77.690748</td>\n",
       "    </tr>\n",
       "    <tr>\n",
       "      <th>Shelton High School</th>\n",
       "      <td>83.420755</td>\n",
       "      <td>82.917411</td>\n",
       "      <td>83.383495</td>\n",
       "      <td>83.778976</td>\n",
       "    </tr>\n",
       "    <tr>\n",
       "      <th>Thomas High School</th>\n",
       "      <td>83.590022</td>\n",
       "      <td>83.087886</td>\n",
       "      <td>83.498795</td>\n",
       "      <td>83.497041</td>\n",
       "    </tr>\n",
       "    <tr>\n",
       "      <th>Wilson High School</th>\n",
       "      <td>83.085578</td>\n",
       "      <td>83.724422</td>\n",
       "      <td>83.195326</td>\n",
       "      <td>83.035794</td>\n",
       "    </tr>\n",
       "    <tr>\n",
       "      <th>Wright High School</th>\n",
       "      <td>83.264706</td>\n",
       "      <td>84.010288</td>\n",
       "      <td>83.836782</td>\n",
       "      <td>83.644986</td>\n",
       "    </tr>\n",
       "  </tbody>\n",
       "</table>\n",
       "</div>"
      ],
      "text/plain": [
       "                             9th       10th       11th       12th\n",
       "Bailey High School     77.083676  76.996772  77.515588  76.492218\n",
       "Cabrera High School    83.094697  83.154506  82.765560  83.277487\n",
       "Figueroa High School   76.403037  76.539974  76.884344  77.151369\n",
       "Ford High School       77.361345  77.672316  76.918058  76.179963\n",
       "Griffin High School    82.044010  84.229064  83.842105  83.356164\n",
       "Hernandez High School  77.438495  77.337408  77.136029  77.186567\n",
       "Holden High School     83.787402  83.429825  85.000000  82.855422\n",
       "Huang High School      77.027251  75.908735  76.446602  77.225641\n",
       "Johnson High School    77.187857  76.691117  77.491653  76.863248\n",
       "Pena High School       83.625455  83.372000  84.328125  84.121547\n",
       "Rodriguez High School  76.859966  76.612500  76.395626  77.690748\n",
       "Shelton High School    83.420755  82.917411  83.383495  83.778976\n",
       "Thomas High School     83.590022  83.087886  83.498795  83.497041\n",
       "Wilson High School     83.085578  83.724422  83.195326  83.035794\n",
       "Wright High School     83.264706  84.010288  83.836782  83.644986"
      ]
     },
     "execution_count": 15,
     "metadata": {},
     "output_type": "execute_result"
    }
   ],
   "source": [
    "# Create a pandas series for each grade.\n",
    "\n",
    "############################################################################\n",
    "\n",
    "# Group each series by school\n",
    "\n",
    "############################################################################\n",
    "\n",
    "# Combine the series into a dataframe\n",
    "\n",
    "############################################################################\n"
   ]
  },
  {
   "cell_type": "markdown",
   "metadata": {},
   "source": [
    "## Reading Score by Grade "
   ]
  },
  {
   "cell_type": "markdown",
   "metadata": {},
   "source": [
    "* Perform the same operations as above for reading scores"
   ]
  },
  {
   "cell_type": "code",
   "execution_count": 16,
   "metadata": {},
   "outputs": [
    {
     "data": {
      "text/html": [
       "<div>\n",
       "<style scoped>\n",
       "    .dataframe tbody tr th:only-of-type {\n",
       "        vertical-align: middle;\n",
       "    }\n",
       "\n",
       "    .dataframe tbody tr th {\n",
       "        vertical-align: top;\n",
       "    }\n",
       "\n",
       "    .dataframe thead th {\n",
       "        text-align: right;\n",
       "    }\n",
       "</style>\n",
       "<table border=\"1\" class=\"dataframe\">\n",
       "  <thead>\n",
       "    <tr style=\"text-align: right;\">\n",
       "      <th></th>\n",
       "      <th>9th</th>\n",
       "      <th>10th</th>\n",
       "      <th>11th</th>\n",
       "      <th>12th</th>\n",
       "    </tr>\n",
       "  </thead>\n",
       "  <tbody>\n",
       "    <tr>\n",
       "      <th>Bailey High School</th>\n",
       "      <td>81.303155</td>\n",
       "      <td>80.907183</td>\n",
       "      <td>80.945643</td>\n",
       "      <td>80.912451</td>\n",
       "    </tr>\n",
       "    <tr>\n",
       "      <th>Cabrera High School</th>\n",
       "      <td>83.676136</td>\n",
       "      <td>84.253219</td>\n",
       "      <td>83.788382</td>\n",
       "      <td>84.287958</td>\n",
       "    </tr>\n",
       "    <tr>\n",
       "      <th>Figueroa High School</th>\n",
       "      <td>81.198598</td>\n",
       "      <td>81.408912</td>\n",
       "      <td>80.640339</td>\n",
       "      <td>81.384863</td>\n",
       "    </tr>\n",
       "    <tr>\n",
       "      <th>Ford High School</th>\n",
       "      <td>80.632653</td>\n",
       "      <td>81.262712</td>\n",
       "      <td>80.403642</td>\n",
       "      <td>80.662338</td>\n",
       "    </tr>\n",
       "    <tr>\n",
       "      <th>Griffin High School</th>\n",
       "      <td>83.369193</td>\n",
       "      <td>83.706897</td>\n",
       "      <td>84.288089</td>\n",
       "      <td>84.013699</td>\n",
       "    </tr>\n",
       "    <tr>\n",
       "      <th>Hernandez High School</th>\n",
       "      <td>80.866860</td>\n",
       "      <td>80.660147</td>\n",
       "      <td>81.396140</td>\n",
       "      <td>80.857143</td>\n",
       "    </tr>\n",
       "    <tr>\n",
       "      <th>Holden High School</th>\n",
       "      <td>83.677165</td>\n",
       "      <td>83.324561</td>\n",
       "      <td>83.815534</td>\n",
       "      <td>84.698795</td>\n",
       "    </tr>\n",
       "    <tr>\n",
       "      <th>Huang High School</th>\n",
       "      <td>81.290284</td>\n",
       "      <td>81.512386</td>\n",
       "      <td>81.417476</td>\n",
       "      <td>80.305983</td>\n",
       "    </tr>\n",
       "    <tr>\n",
       "      <th>Johnson High School</th>\n",
       "      <td>81.260714</td>\n",
       "      <td>80.773431</td>\n",
       "      <td>80.616027</td>\n",
       "      <td>81.227564</td>\n",
       "    </tr>\n",
       "    <tr>\n",
       "      <th>Pena High School</th>\n",
       "      <td>83.807273</td>\n",
       "      <td>83.612000</td>\n",
       "      <td>84.335938</td>\n",
       "      <td>84.591160</td>\n",
       "    </tr>\n",
       "    <tr>\n",
       "      <th>Rodriguez High School</th>\n",
       "      <td>80.993127</td>\n",
       "      <td>80.629808</td>\n",
       "      <td>80.864811</td>\n",
       "      <td>80.376426</td>\n",
       "    </tr>\n",
       "    <tr>\n",
       "      <th>Shelton High School</th>\n",
       "      <td>84.122642</td>\n",
       "      <td>83.441964</td>\n",
       "      <td>84.373786</td>\n",
       "      <td>82.781671</td>\n",
       "    </tr>\n",
       "    <tr>\n",
       "      <th>Thomas High School</th>\n",
       "      <td>83.728850</td>\n",
       "      <td>84.254157</td>\n",
       "      <td>83.585542</td>\n",
       "      <td>83.831361</td>\n",
       "    </tr>\n",
       "    <tr>\n",
       "      <th>Wilson High School</th>\n",
       "      <td>83.939778</td>\n",
       "      <td>84.021452</td>\n",
       "      <td>83.764608</td>\n",
       "      <td>84.317673</td>\n",
       "    </tr>\n",
       "    <tr>\n",
       "      <th>Wright High School</th>\n",
       "      <td>83.833333</td>\n",
       "      <td>83.812757</td>\n",
       "      <td>84.156322</td>\n",
       "      <td>84.073171</td>\n",
       "    </tr>\n",
       "  </tbody>\n",
       "</table>\n",
       "</div>"
      ],
      "text/plain": [
       "                             9th       10th       11th       12th\n",
       "Bailey High School     81.303155  80.907183  80.945643  80.912451\n",
       "Cabrera High School    83.676136  84.253219  83.788382  84.287958\n",
       "Figueroa High School   81.198598  81.408912  80.640339  81.384863\n",
       "Ford High School       80.632653  81.262712  80.403642  80.662338\n",
       "Griffin High School    83.369193  83.706897  84.288089  84.013699\n",
       "Hernandez High School  80.866860  80.660147  81.396140  80.857143\n",
       "Holden High School     83.677165  83.324561  83.815534  84.698795\n",
       "Huang High School      81.290284  81.512386  81.417476  80.305983\n",
       "Johnson High School    81.260714  80.773431  80.616027  81.227564\n",
       "Pena High School       83.807273  83.612000  84.335938  84.591160\n",
       "Rodriguez High School  80.993127  80.629808  80.864811  80.376426\n",
       "Shelton High School    84.122642  83.441964  84.373786  82.781671\n",
       "Thomas High School     83.728850  84.254157  83.585542  83.831361\n",
       "Wilson High School     83.939778  84.021452  83.764608  84.317673\n",
       "Wright High School     83.833333  83.812757  84.156322  84.073171"
      ]
     },
     "execution_count": 16,
     "metadata": {},
     "output_type": "execute_result"
    }
   ],
   "source": [
    "# \n",
    "\n",
    "############################################################################\n"
   ]
  },
  {
   "cell_type": "markdown",
   "metadata": {},
   "source": [
    "## Scores by School Spending"
   ]
  },
  {
   "cell_type": "markdown",
   "metadata": {},
   "source": [
    "* Create a table that breaks down school performances based on average Spending Ranges (Per Student). Use 4 reasonable bins to group school spending. Include in the table each of the following:\n",
    "  * Average Math Score\n",
    "  * Average Reading Score\n",
    "  * % Passing Math\n",
    "  * % Passing Reading\n",
    "  * Overall Passing Rate (Average of the above two)"
   ]
  },
  {
   "cell_type": "code",
   "execution_count": 17,
   "metadata": {},
   "outputs": [],
   "source": [
    "# Sample bins. Feel free to create your own bins.\n",
    "spending_bins = [0, 585, 615, 645, 675]\n",
    "group_names = [\"<$585\", \"$585-615\", \"$615-645\", \"$645-675\"]\n",
    "\n",
    "# Average Math Score\n",
    "\n",
    "############################################################################\n",
    "\n",
    "# Average Reading Score\n",
    "\n",
    "############################################################################\n",
    "\n",
    "# % Passing Math\n",
    "\n",
    "############################################################################\n",
    "\n",
    "# % Passing Reading\n",
    "\n",
    "############################################################################\n",
    "\n",
    "# Overall Passing Rate (Average of the above two)\n",
    "\n",
    "############################################################################\n",
    "\n",
    "# \n",
    "\n",
    "############################################################################\n"
   ]
  },
  {
   "cell_type": "code",
   "execution_count": 18,
   "metadata": {},
   "outputs": [
    {
     "data": {
      "text/html": [
       "<div>\n",
       "<style scoped>\n",
       "    .dataframe tbody tr th:only-of-type {\n",
       "        vertical-align: middle;\n",
       "    }\n",
       "\n",
       "    .dataframe tbody tr th {\n",
       "        vertical-align: top;\n",
       "    }\n",
       "\n",
       "    .dataframe thead th {\n",
       "        text-align: right;\n",
       "    }\n",
       "</style>\n",
       "<table border=\"1\" class=\"dataframe\">\n",
       "  <thead>\n",
       "    <tr style=\"text-align: right;\">\n",
       "      <th></th>\n",
       "      <th>Average Math Score</th>\n",
       "      <th>Average Reading Score</th>\n",
       "      <th>% Passing Math</th>\n",
       "      <th>% Passing Reading</th>\n",
       "      <th>% Overall Passing Rate</th>\n",
       "    </tr>\n",
       "    <tr>\n",
       "      <th>Spending Ranges (Per Student)</th>\n",
       "      <th></th>\n",
       "      <th></th>\n",
       "      <th></th>\n",
       "      <th></th>\n",
       "      <th></th>\n",
       "    </tr>\n",
       "  </thead>\n",
       "  <tbody>\n",
       "    <tr>\n",
       "      <th>&lt;$585</th>\n",
       "      <td>83.455399</td>\n",
       "      <td>83.933814</td>\n",
       "      <td>93.460096</td>\n",
       "      <td>96.610877</td>\n",
       "      <td>95.035486</td>\n",
       "    </tr>\n",
       "    <tr>\n",
       "      <th>$585-615</th>\n",
       "      <td>83.599686</td>\n",
       "      <td>83.885211</td>\n",
       "      <td>94.230858</td>\n",
       "      <td>95.900287</td>\n",
       "      <td>95.065572</td>\n",
       "    </tr>\n",
       "    <tr>\n",
       "      <th>$615-645</th>\n",
       "      <td>79.079225</td>\n",
       "      <td>81.891436</td>\n",
       "      <td>75.668212</td>\n",
       "      <td>86.106569</td>\n",
       "      <td>80.887391</td>\n",
       "    </tr>\n",
       "    <tr>\n",
       "      <th>$645-675</th>\n",
       "      <td>76.997210</td>\n",
       "      <td>81.027843</td>\n",
       "      <td>66.164813</td>\n",
       "      <td>81.133951</td>\n",
       "      <td>73.649382</td>\n",
       "    </tr>\n",
       "  </tbody>\n",
       "</table>\n",
       "</div>"
      ],
      "text/plain": [
       "                               Average Math Score  Average Reading Score  \\\n",
       "Spending Ranges (Per Student)                                              \n",
       "<$585                                   83.455399              83.933814   \n",
       "$585-615                                83.599686              83.885211   \n",
       "$615-645                                79.079225              81.891436   \n",
       "$645-675                                76.997210              81.027843   \n",
       "\n",
       "                               % Passing Math  % Passing Reading  \\\n",
       "Spending Ranges (Per Student)                                      \n",
       "<$585                               93.460096          96.610877   \n",
       "$585-615                            94.230858          95.900287   \n",
       "$615-645                            75.668212          86.106569   \n",
       "$645-675                            66.164813          81.133951   \n",
       "\n",
       "                               % Overall Passing Rate  \n",
       "Spending Ranges (Per Student)                          \n",
       "<$585                                       95.035486  \n",
       "$585-615                                    95.065572  \n",
       "$615-645                                    80.887391  \n",
       "$645-675                                    73.649382  "
      ]
     },
     "execution_count": 18,
     "metadata": {},
     "output_type": "execute_result"
    }
   ],
   "source": []
  },
  {
   "cell_type": "markdown",
   "metadata": {},
   "source": [
    "## Scores by School Size"
   ]
  },
  {
   "cell_type": "markdown",
   "metadata": {},
   "source": [
    "* Perform the same operations as above, based on school size."
   ]
  },
  {
   "cell_type": "code",
   "execution_count": null,
   "metadata": {},
   "outputs": [],
   "source": [
    "# Sample bins. Feel free to create your own bins.\n",
    "size_bins = [0, 1000, 2000, 5000]\n",
    "group_names = [\"Small (<1000)\", \"Medium (1000-2000)\", \"Large (2000-5000)\"]"
   ]
  },
  {
   "cell_type": "code",
   "execution_count": 19,
   "metadata": {
    "scrolled": true
   },
   "outputs": [
    {
     "data": {
      "text/html": [
       "<div>\n",
       "<style scoped>\n",
       "    .dataframe tbody tr th:only-of-type {\n",
       "        vertical-align: middle;\n",
       "    }\n",
       "\n",
       "    .dataframe tbody tr th {\n",
       "        vertical-align: top;\n",
       "    }\n",
       "\n",
       "    .dataframe thead th {\n",
       "        text-align: right;\n",
       "    }\n",
       "</style>\n",
       "<table border=\"1\" class=\"dataframe\">\n",
       "  <thead>\n",
       "    <tr style=\"text-align: right;\">\n",
       "      <th></th>\n",
       "      <th>Average Math Score</th>\n",
       "      <th>Average Reading Score</th>\n",
       "      <th>% Passing Math</th>\n",
       "      <th>% Passing Reading</th>\n",
       "      <th>% Overall Passing Rate</th>\n",
       "    </tr>\n",
       "    <tr>\n",
       "      <th>School Size</th>\n",
       "      <th></th>\n",
       "      <th></th>\n",
       "      <th></th>\n",
       "      <th></th>\n",
       "      <th></th>\n",
       "    </tr>\n",
       "  </thead>\n",
       "  <tbody>\n",
       "    <tr>\n",
       "      <th>Small (&lt;1000)</th>\n",
       "      <td>83.821598</td>\n",
       "      <td>83.929843</td>\n",
       "      <td>93.550225</td>\n",
       "      <td>96.099437</td>\n",
       "      <td>94.824831</td>\n",
       "    </tr>\n",
       "    <tr>\n",
       "      <th>Medium (1000-2000)</th>\n",
       "      <td>83.374684</td>\n",
       "      <td>83.864438</td>\n",
       "      <td>93.599695</td>\n",
       "      <td>96.790680</td>\n",
       "      <td>95.195187</td>\n",
       "    </tr>\n",
       "    <tr>\n",
       "      <th>Large (2000-5000)</th>\n",
       "      <td>77.746417</td>\n",
       "      <td>81.344493</td>\n",
       "      <td>69.963361</td>\n",
       "      <td>82.766634</td>\n",
       "      <td>76.364998</td>\n",
       "    </tr>\n",
       "  </tbody>\n",
       "</table>\n",
       "</div>"
      ],
      "text/plain": [
       "                    Average Math Score  Average Reading Score  % Passing Math  \\\n",
       "School Size                                                                     \n",
       "Small (<1000)                83.821598              83.929843       93.550225   \n",
       "Medium (1000-2000)           83.374684              83.864438       93.599695   \n",
       "Large (2000-5000)            77.746417              81.344493       69.963361   \n",
       "\n",
       "                    % Passing Reading  % Overall Passing Rate  \n",
       "School Size                                                    \n",
       "Small (<1000)               96.099437               94.824831  \n",
       "Medium (1000-2000)          96.790680               95.195187  \n",
       "Large (2000-5000)           82.766634               76.364998  "
      ]
     },
     "execution_count": 19,
     "metadata": {},
     "output_type": "execute_result"
    }
   ],
   "source": [
    "# \n",
    "\n",
    "############################################################################\n"
   ]
  },
  {
   "cell_type": "markdown",
   "metadata": {},
   "source": [
    "## Scores by School Type"
   ]
  },
  {
   "cell_type": "markdown",
   "metadata": {},
   "source": [
    "* Perform the same operations as above, based on school type."
   ]
  },
  {
   "cell_type": "code",
   "execution_count": 20,
   "metadata": {},
   "outputs": [
    {
     "data": {
      "text/html": [
       "<div>\n",
       "<style scoped>\n",
       "    .dataframe tbody tr th:only-of-type {\n",
       "        vertical-align: middle;\n",
       "    }\n",
       "\n",
       "    .dataframe tbody tr th {\n",
       "        vertical-align: top;\n",
       "    }\n",
       "\n",
       "    .dataframe thead th {\n",
       "        text-align: right;\n",
       "    }\n",
       "</style>\n",
       "<table border=\"1\" class=\"dataframe\">\n",
       "  <thead>\n",
       "    <tr style=\"text-align: right;\">\n",
       "      <th></th>\n",
       "      <th>Average Math Score</th>\n",
       "      <th>Average Reading Score</th>\n",
       "      <th>% Passing Math</th>\n",
       "      <th>% Passing Reading</th>\n",
       "      <th>% Overall Passing Rate</th>\n",
       "    </tr>\n",
       "    <tr>\n",
       "      <th>School Type</th>\n",
       "      <th></th>\n",
       "      <th></th>\n",
       "      <th></th>\n",
       "      <th></th>\n",
       "      <th></th>\n",
       "    </tr>\n",
       "  </thead>\n",
       "  <tbody>\n",
       "    <tr>\n",
       "      <th>Charter</th>\n",
       "      <td>83.473852</td>\n",
       "      <td>83.896421</td>\n",
       "      <td>93.620830</td>\n",
       "      <td>96.586489</td>\n",
       "      <td>95.103660</td>\n",
       "    </tr>\n",
       "    <tr>\n",
       "      <th>District</th>\n",
       "      <td>76.956733</td>\n",
       "      <td>80.966636</td>\n",
       "      <td>66.548453</td>\n",
       "      <td>80.799062</td>\n",
       "      <td>73.673757</td>\n",
       "    </tr>\n",
       "  </tbody>\n",
       "</table>\n",
       "</div>"
      ],
      "text/plain": [
       "             Average Math Score  Average Reading Score  % Passing Math  \\\n",
       "School Type                                                              \n",
       "Charter               83.473852              83.896421       93.620830   \n",
       "District              76.956733              80.966636       66.548453   \n",
       "\n",
       "             % Passing Reading  % Overall Passing Rate  \n",
       "School Type                                             \n",
       "Charter              96.586489               95.103660  \n",
       "District             80.799062               73.673757  "
      ]
     },
     "execution_count": 20,
     "metadata": {},
     "output_type": "execute_result"
    }
   ],
   "source": [
    "# \n",
    "\n",
    "############################################################################\n"
   ]
  },
  {
   "cell_type": "code",
   "execution_count": null,
   "metadata": {},
   "outputs": [],
   "source": []
  }
 ],
 "metadata": {
  "anaconda-cloud": {},
  "kernel_info": {
   "name": "python3"
  },
  "kernelspec": {
   "display_name": "Python 3",
   "language": "python",
   "name": "python3"
  },
  "language_info": {
   "codemirror_mode": {
    "name": "ipython",
    "version": 3
   },
   "file_extension": ".py",
   "mimetype": "text/x-python",
   "name": "python",
   "nbconvert_exporter": "python",
   "pygments_lexer": "ipython3",
   "version": "3.7.4"
  },
  "latex_envs": {
   "LaTeX_envs_menu_present": true,
   "autoclose": false,
   "autocomplete": true,
   "bibliofile": "biblio.bib",
   "cite_by": "apalike",
   "current_citInitial": 1,
   "eqLabelWithNumbers": true,
   "eqNumInitial": 1,
   "hotkeys": {
    "equation": "Ctrl-E",
    "itemize": "Ctrl-I"
   },
   "labels_anchors": false,
   "latex_user_defs": false,
   "report_style_numbering": false,
   "user_envs_cfg": false
  },
  "nteract": {
   "version": "0.8.4"
  }
 },
 "nbformat": 4,
 "nbformat_minor": 1
}
